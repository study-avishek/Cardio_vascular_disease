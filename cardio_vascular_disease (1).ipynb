{
  "nbformat": 4,
  "nbformat_minor": 0,
  "metadata": {
    "kernelspec": {
      "display_name": "Python 3",
      "language": "python",
      "name": "python3"
    },
    "language_info": {
      "codemirror_mode": {
        "name": "ipython",
        "version": 3
      },
      "file_extension": ".py",
      "mimetype": "text/x-python",
      "name": "python",
      "nbconvert_exporter": "python",
      "pygments_lexer": "ipython3",
      "version": "3.7.3"
    },
    "colab": {
      "name": "cardio_vascular_disease.ipynb",
      "provenance": []
    },
    "widgets": {
      "application/vnd.jupyter.widget-state+json": {
        "e83bdbdb1d304521be9ef1e53a038838": {
          "model_module": "@jupyter-widgets/controls",
          "model_name": "IntProgressModel",
          "state": {
            "_view_name": "ProgressView",
            "style": "IPY_MODEL_e49e688018d44f239969f2172e8013dd",
            "_dom_classes": [],
            "description": "Processing: ",
            "_model_name": "IntProgressModel",
            "bar_style": "",
            "max": 13,
            "_view_module": "@jupyter-widgets/controls",
            "_model_module_version": "1.5.0",
            "value": 12,
            "_view_count": null,
            "_view_module_version": "1.5.0",
            "orientation": "horizontal",
            "min": 0,
            "description_tooltip": null,
            "_model_module": "@jupyter-widgets/controls",
            "layout": "IPY_MODEL_6d798d1149ab49d7a152011827f1dac3"
          }
        },
        "e49e688018d44f239969f2172e8013dd": {
          "model_module": "@jupyter-widgets/controls",
          "model_name": "ProgressStyleModel",
          "state": {
            "_view_name": "StyleView",
            "_model_name": "ProgressStyleModel",
            "description_width": "",
            "_view_module": "@jupyter-widgets/base",
            "_model_module_version": "1.5.0",
            "_view_count": null,
            "_view_module_version": "1.2.0",
            "bar_color": null,
            "_model_module": "@jupyter-widgets/controls"
          }
        },
        "6d798d1149ab49d7a152011827f1dac3": {
          "model_module": "@jupyter-widgets/base",
          "model_name": "LayoutModel",
          "state": {
            "_view_name": "LayoutView",
            "grid_template_rows": null,
            "right": null,
            "justify_content": null,
            "_view_module": "@jupyter-widgets/base",
            "overflow": null,
            "_model_module_version": "1.2.0",
            "_view_count": null,
            "flex_flow": null,
            "width": null,
            "min_width": null,
            "border": null,
            "align_items": null,
            "bottom": null,
            "_model_module": "@jupyter-widgets/base",
            "top": null,
            "grid_column": null,
            "overflow_y": null,
            "overflow_x": null,
            "grid_auto_flow": null,
            "grid_area": null,
            "grid_template_columns": null,
            "flex": null,
            "_model_name": "LayoutModel",
            "justify_items": null,
            "grid_row": null,
            "max_height": null,
            "align_content": null,
            "visibility": null,
            "align_self": null,
            "height": null,
            "min_height": null,
            "padding": null,
            "grid_auto_rows": null,
            "grid_gap": null,
            "max_width": null,
            "order": null,
            "_view_module_version": "1.2.0",
            "grid_template_areas": null,
            "object_position": null,
            "object_fit": null,
            "grid_auto_columns": null,
            "margin": null,
            "display": null,
            "left": null
          }
        },
        "7075d264cd0348fba36f52ae18c4687d": {
          "model_module": "@jupyter-widgets/controls",
          "model_name": "TextModel",
          "state": {
            "_view_name": "TextView",
            "style": "IPY_MODEL_1f224d152c934a5a9ce7937bd6c20b75",
            "_dom_classes": [],
            "description": "",
            "_model_name": "TextModel",
            "placeholder": "​",
            "_view_module": "@jupyter-widgets/controls",
            "_model_module_version": "1.5.0",
            "value": "Following data types have been inferred automatically, if they are correct press enter to continue or type 'quit' otherwise.",
            "_view_count": null,
            "disabled": false,
            "_view_module_version": "1.5.0",
            "continuous_update": true,
            "description_tooltip": null,
            "_model_module": "@jupyter-widgets/controls",
            "layout": "IPY_MODEL_32fb01fd80a34008b82caea277ade6f4"
          }
        },
        "1f224d152c934a5a9ce7937bd6c20b75": {
          "model_module": "@jupyter-widgets/controls",
          "model_name": "DescriptionStyleModel",
          "state": {
            "_view_name": "StyleView",
            "_model_name": "DescriptionStyleModel",
            "description_width": "",
            "_view_module": "@jupyter-widgets/base",
            "_model_module_version": "1.5.0",
            "_view_count": null,
            "_view_module_version": "1.2.0",
            "_model_module": "@jupyter-widgets/controls"
          }
        },
        "32fb01fd80a34008b82caea277ade6f4": {
          "model_module": "@jupyter-widgets/base",
          "model_name": "LayoutModel",
          "state": {
            "_view_name": "LayoutView",
            "grid_template_rows": null,
            "right": null,
            "justify_content": null,
            "_view_module": "@jupyter-widgets/base",
            "overflow": null,
            "_model_module_version": "1.2.0",
            "_view_count": null,
            "flex_flow": null,
            "width": "100%",
            "min_width": null,
            "border": null,
            "align_items": null,
            "bottom": null,
            "_model_module": "@jupyter-widgets/base",
            "top": null,
            "grid_column": null,
            "overflow_y": null,
            "overflow_x": null,
            "grid_auto_flow": null,
            "grid_area": null,
            "grid_template_columns": null,
            "flex": null,
            "_model_name": "LayoutModel",
            "justify_items": null,
            "grid_row": null,
            "max_height": null,
            "align_content": null,
            "visibility": null,
            "align_self": null,
            "height": null,
            "min_height": null,
            "padding": null,
            "grid_auto_rows": null,
            "grid_gap": null,
            "max_width": null,
            "order": null,
            "_view_module_version": "1.2.0",
            "grid_template_areas": null,
            "object_position": null,
            "object_fit": null,
            "grid_auto_columns": null,
            "margin": null,
            "display": null,
            "left": null
          }
        },
        "aecedc9bdad043bcb68cd765079003be": {
          "model_module": "@jupyter-widgets/controls",
          "model_name": "IntProgressModel",
          "state": {
            "_view_name": "ProgressView",
            "style": "IPY_MODEL_16b5b7e8c11c42ff83dc1b8ba5daaa7d",
            "_dom_classes": [],
            "description": "Processing: ",
            "_model_name": "IntProgressModel",
            "bar_style": "",
            "max": 176,
            "_view_module": "@jupyter-widgets/controls",
            "_model_module_version": "1.5.0",
            "value": 172,
            "_view_count": null,
            "_view_module_version": "1.5.0",
            "orientation": "horizontal",
            "min": 0,
            "description_tooltip": null,
            "_model_module": "@jupyter-widgets/controls",
            "layout": "IPY_MODEL_53a2aa464ea44c36b26c74bc7e6c8db8"
          }
        },
        "16b5b7e8c11c42ff83dc1b8ba5daaa7d": {
          "model_module": "@jupyter-widgets/controls",
          "model_name": "ProgressStyleModel",
          "state": {
            "_view_name": "StyleView",
            "_model_name": "ProgressStyleModel",
            "description_width": "",
            "_view_module": "@jupyter-widgets/base",
            "_model_module_version": "1.5.0",
            "_view_count": null,
            "_view_module_version": "1.2.0",
            "bar_color": null,
            "_model_module": "@jupyter-widgets/controls"
          }
        },
        "53a2aa464ea44c36b26c74bc7e6c8db8": {
          "model_module": "@jupyter-widgets/base",
          "model_name": "LayoutModel",
          "state": {
            "_view_name": "LayoutView",
            "grid_template_rows": null,
            "right": null,
            "justify_content": null,
            "_view_module": "@jupyter-widgets/base",
            "overflow": null,
            "_model_module_version": "1.2.0",
            "_view_count": null,
            "flex_flow": null,
            "width": null,
            "min_width": null,
            "border": null,
            "align_items": null,
            "bottom": null,
            "_model_module": "@jupyter-widgets/base",
            "top": null,
            "grid_column": null,
            "overflow_y": null,
            "overflow_x": null,
            "grid_auto_flow": null,
            "grid_area": null,
            "grid_template_columns": null,
            "flex": null,
            "_model_name": "LayoutModel",
            "justify_items": null,
            "grid_row": null,
            "max_height": null,
            "align_content": null,
            "visibility": null,
            "align_self": null,
            "height": null,
            "min_height": null,
            "padding": null,
            "grid_auto_rows": null,
            "grid_gap": null,
            "max_width": null,
            "order": null,
            "_view_module_version": "1.2.0",
            "grid_template_areas": null,
            "object_position": null,
            "object_fit": null,
            "grid_auto_columns": null,
            "margin": null,
            "display": null,
            "left": null
          }
        },
        "f710894d92af4c109f63238e53668b3c": {
          "model_module": "@jupyter-widgets/controls",
          "model_name": "IntProgressModel",
          "state": {
            "_view_name": "ProgressView",
            "style": "IPY_MODEL_194d12fe59bc490cba129440acdcddc3",
            "_dom_classes": [],
            "description": "Processing: ",
            "_model_name": "IntProgressModel",
            "bar_style": "",
            "max": 14,
            "_view_module": "@jupyter-widgets/controls",
            "_model_module_version": "1.5.0",
            "value": 14,
            "_view_count": null,
            "_view_module_version": "1.5.0",
            "orientation": "horizontal",
            "min": 0,
            "description_tooltip": null,
            "_model_module": "@jupyter-widgets/controls",
            "layout": "IPY_MODEL_402f62d8231c4fbb80a45c0ff9d4c212"
          }
        },
        "194d12fe59bc490cba129440acdcddc3": {
          "model_module": "@jupyter-widgets/controls",
          "model_name": "ProgressStyleModel",
          "state": {
            "_view_name": "StyleView",
            "_model_name": "ProgressStyleModel",
            "description_width": "",
            "_view_module": "@jupyter-widgets/base",
            "_model_module_version": "1.5.0",
            "_view_count": null,
            "_view_module_version": "1.2.0",
            "bar_color": null,
            "_model_module": "@jupyter-widgets/controls"
          }
        },
        "402f62d8231c4fbb80a45c0ff9d4c212": {
          "model_module": "@jupyter-widgets/base",
          "model_name": "LayoutModel",
          "state": {
            "_view_name": "LayoutView",
            "grid_template_rows": null,
            "right": null,
            "justify_content": null,
            "_view_module": "@jupyter-widgets/base",
            "overflow": null,
            "_model_module_version": "1.2.0",
            "_view_count": null,
            "flex_flow": null,
            "width": null,
            "min_width": null,
            "border": null,
            "align_items": null,
            "bottom": null,
            "_model_module": "@jupyter-widgets/base",
            "top": null,
            "grid_column": null,
            "overflow_y": null,
            "overflow_x": null,
            "grid_auto_flow": null,
            "grid_area": null,
            "grid_template_columns": null,
            "flex": null,
            "_model_name": "LayoutModel",
            "justify_items": null,
            "grid_row": null,
            "max_height": null,
            "align_content": null,
            "visibility": null,
            "align_self": null,
            "height": null,
            "min_height": null,
            "padding": null,
            "grid_auto_rows": null,
            "grid_gap": null,
            "max_width": null,
            "order": null,
            "_view_module_version": "1.2.0",
            "grid_template_areas": null,
            "object_position": null,
            "object_fit": null,
            "grid_auto_columns": null,
            "margin": null,
            "display": null,
            "left": null
          }
        }
      }
    }
  },
  "cells": [
    {
      "cell_type": "markdown",
      "metadata": {
        "id": "t0rHagVUSlfx",
        "colab_type": "text"
      },
      "source": [
        "# Study on the Cardiovascular Disease dataset, Visualisation using Seaborn data visualization library and prediction using PyCaret Machine learning library\n",
        "\n",
        "\n",
        "\n"
      ]
    },
    {
      "cell_type": "markdown",
      "metadata": {
        "id": "vCuD4oNiSlfz",
        "colab_type": "text"
      },
      "source": [
        "## Dataset description\n",
        "Name:              Cardiovascular Disease dataset\n",
        "\n",
        "Small Description: The dataset consists of 70 000 records of patients data, 11 features + target.\n",
        "\n",
        "Author:            Svetlana Ulianova\n",
        "\n",
        "Usability:         6.5\n",
        "\n",
        "Data Description:  There are 3 types of input features:\n",
        "                   Objective: factual information;\n",
        "                   Examination: results of medical examination;\n",
        "                   Subjective: information given by the patient.\n",
        "\n",
        "Features:          \n",
        "                   1. Age | Objective Feature | age | int (days)\n",
        "                   2. Height | Objective Feature | height | int (cm) |\n",
        "                   3. Weight | Objective Feature | weight | float (kg) |\n",
        "                   4. Gender | Objective Feature | gender | categorical code |\n",
        "                   5. Systolic blood pressure | Examination Feature | ap_hi | int |\n",
        "                   6. Diastolic blood pressure | Examination Feature | ap_lo | int |\n",
        "                   7. Cholesterol | Examination Feature | cholesterol | 1: normal, 2: above normal, 3: well above normal |\n",
        "                   8. Glucose | Examination Feature | gluc | 1: normal, 2: above normal, 3: well above normal |\n",
        "                   9. Smoking | Subjective Feature | smoke | binary |\n",
        "                   11. Alcohol intake | Subjective Feature | alco | binary |\n",
        "                   12. Physical activity | Subjective Feature | active | binary |\n",
        "                   13. Presence or absence of cardiovascular disease | Target Variable | cardio | binary |\n",
        "\n",
        "Dataset link:      https://www.kaggle.com/sulianova/cardiovascular-disease-dataset\n",
        "                  \n",
        "#### All of the dataset values were collected at the moment of medical examination.\n"
      ]
    },
    {
      "cell_type": "markdown",
      "metadata": {
        "id": "GNU1P-j1Slf0",
        "colab_type": "text"
      },
      "source": [
        "## Step -1 (loading the libraries and dataset )\n",
        "First we have to import the libraries for data analysis(i.e: numpy and pandas) and load the dataset   "
      ]
    },
    {
      "cell_type": "code",
      "metadata": {
        "id": "98XMLqPbSlf1",
        "colab_type": "code",
        "colab": {}
      },
      "source": [
        "#importing data analysis libraries\n",
        "import pandas as pd\n",
        "import numpy as np\n",
        "\n",
        "#loading the path of the function to the dataset\n",
        "path = '/cardio_train.csv'\n",
        "\n",
        "#loading the dataset and seting the index to id\n",
        "#please note that the csv file is ';' separated and not ',' separated\n",
        "cardio_data = pd.read_csv(path, sep = ';')"
      ],
      "execution_count": null,
      "outputs": []
    },
    {
      "cell_type": "code",
      "metadata": {
        "id": "JvfSz1-rS6lw",
        "colab_type": "code",
        "colab": {}
      },
      "source": [
        "from google.colab import drive\n",
        "drive.mount('/content/drive')"
      ],
      "execution_count": null,
      "outputs": []
    },
    {
      "cell_type": "code",
      "metadata": {
        "id": "QGo2epmYSlf8",
        "colab_type": "code",
        "colab": {
          "base_uri": "https://localhost:8080/",
          "height": 343
        },
        "outputId": "59bd4fa2-2fa8-4588-9a32-86064451e155"
      },
      "source": [
        "#checking out the data(run the cell)\n",
        "cardio_data.head(10)"
      ],
      "execution_count": null,
      "outputs": [
        {
          "output_type": "execute_result",
          "data": {
            "text/html": [
              "<div>\n",
              "<style scoped>\n",
              "    .dataframe tbody tr th:only-of-type {\n",
              "        vertical-align: middle;\n",
              "    }\n",
              "\n",
              "    .dataframe tbody tr th {\n",
              "        vertical-align: top;\n",
              "    }\n",
              "\n",
              "    .dataframe thead th {\n",
              "        text-align: right;\n",
              "    }\n",
              "</style>\n",
              "<table border=\"1\" class=\"dataframe\">\n",
              "  <thead>\n",
              "    <tr style=\"text-align: right;\">\n",
              "      <th></th>\n",
              "      <th>id</th>\n",
              "      <th>age</th>\n",
              "      <th>gender</th>\n",
              "      <th>height</th>\n",
              "      <th>weight</th>\n",
              "      <th>ap_hi</th>\n",
              "      <th>ap_lo</th>\n",
              "      <th>cholesterol</th>\n",
              "      <th>gluc</th>\n",
              "      <th>smoke</th>\n",
              "      <th>alco</th>\n",
              "      <th>active</th>\n",
              "      <th>cardio</th>\n",
              "    </tr>\n",
              "  </thead>\n",
              "  <tbody>\n",
              "    <tr>\n",
              "      <th>0</th>\n",
              "      <td>0</td>\n",
              "      <td>18393</td>\n",
              "      <td>2</td>\n",
              "      <td>168</td>\n",
              "      <td>62.0</td>\n",
              "      <td>110</td>\n",
              "      <td>80</td>\n",
              "      <td>1</td>\n",
              "      <td>1</td>\n",
              "      <td>0</td>\n",
              "      <td>0</td>\n",
              "      <td>1</td>\n",
              "      <td>0</td>\n",
              "    </tr>\n",
              "    <tr>\n",
              "      <th>1</th>\n",
              "      <td>1</td>\n",
              "      <td>20228</td>\n",
              "      <td>1</td>\n",
              "      <td>156</td>\n",
              "      <td>85.0</td>\n",
              "      <td>140</td>\n",
              "      <td>90</td>\n",
              "      <td>3</td>\n",
              "      <td>1</td>\n",
              "      <td>0</td>\n",
              "      <td>0</td>\n",
              "      <td>1</td>\n",
              "      <td>1</td>\n",
              "    </tr>\n",
              "    <tr>\n",
              "      <th>2</th>\n",
              "      <td>2</td>\n",
              "      <td>18857</td>\n",
              "      <td>1</td>\n",
              "      <td>165</td>\n",
              "      <td>64.0</td>\n",
              "      <td>130</td>\n",
              "      <td>70</td>\n",
              "      <td>3</td>\n",
              "      <td>1</td>\n",
              "      <td>0</td>\n",
              "      <td>0</td>\n",
              "      <td>0</td>\n",
              "      <td>1</td>\n",
              "    </tr>\n",
              "    <tr>\n",
              "      <th>3</th>\n",
              "      <td>3</td>\n",
              "      <td>17623</td>\n",
              "      <td>2</td>\n",
              "      <td>169</td>\n",
              "      <td>82.0</td>\n",
              "      <td>150</td>\n",
              "      <td>100</td>\n",
              "      <td>1</td>\n",
              "      <td>1</td>\n",
              "      <td>0</td>\n",
              "      <td>0</td>\n",
              "      <td>1</td>\n",
              "      <td>1</td>\n",
              "    </tr>\n",
              "    <tr>\n",
              "      <th>4</th>\n",
              "      <td>4</td>\n",
              "      <td>17474</td>\n",
              "      <td>1</td>\n",
              "      <td>156</td>\n",
              "      <td>56.0</td>\n",
              "      <td>100</td>\n",
              "      <td>60</td>\n",
              "      <td>1</td>\n",
              "      <td>1</td>\n",
              "      <td>0</td>\n",
              "      <td>0</td>\n",
              "      <td>0</td>\n",
              "      <td>0</td>\n",
              "    </tr>\n",
              "    <tr>\n",
              "      <th>5</th>\n",
              "      <td>8</td>\n",
              "      <td>21914</td>\n",
              "      <td>1</td>\n",
              "      <td>151</td>\n",
              "      <td>67.0</td>\n",
              "      <td>120</td>\n",
              "      <td>80</td>\n",
              "      <td>2</td>\n",
              "      <td>2</td>\n",
              "      <td>0</td>\n",
              "      <td>0</td>\n",
              "      <td>0</td>\n",
              "      <td>0</td>\n",
              "    </tr>\n",
              "    <tr>\n",
              "      <th>6</th>\n",
              "      <td>9</td>\n",
              "      <td>22113</td>\n",
              "      <td>1</td>\n",
              "      <td>157</td>\n",
              "      <td>93.0</td>\n",
              "      <td>130</td>\n",
              "      <td>80</td>\n",
              "      <td>3</td>\n",
              "      <td>1</td>\n",
              "      <td>0</td>\n",
              "      <td>0</td>\n",
              "      <td>1</td>\n",
              "      <td>0</td>\n",
              "    </tr>\n",
              "    <tr>\n",
              "      <th>7</th>\n",
              "      <td>12</td>\n",
              "      <td>22584</td>\n",
              "      <td>2</td>\n",
              "      <td>178</td>\n",
              "      <td>95.0</td>\n",
              "      <td>130</td>\n",
              "      <td>90</td>\n",
              "      <td>3</td>\n",
              "      <td>3</td>\n",
              "      <td>0</td>\n",
              "      <td>0</td>\n",
              "      <td>1</td>\n",
              "      <td>1</td>\n",
              "    </tr>\n",
              "    <tr>\n",
              "      <th>8</th>\n",
              "      <td>13</td>\n",
              "      <td>17668</td>\n",
              "      <td>1</td>\n",
              "      <td>158</td>\n",
              "      <td>71.0</td>\n",
              "      <td>110</td>\n",
              "      <td>70</td>\n",
              "      <td>1</td>\n",
              "      <td>1</td>\n",
              "      <td>0</td>\n",
              "      <td>0</td>\n",
              "      <td>1</td>\n",
              "      <td>0</td>\n",
              "    </tr>\n",
              "    <tr>\n",
              "      <th>9</th>\n",
              "      <td>14</td>\n",
              "      <td>19834</td>\n",
              "      <td>1</td>\n",
              "      <td>164</td>\n",
              "      <td>68.0</td>\n",
              "      <td>110</td>\n",
              "      <td>60</td>\n",
              "      <td>1</td>\n",
              "      <td>1</td>\n",
              "      <td>0</td>\n",
              "      <td>0</td>\n",
              "      <td>0</td>\n",
              "      <td>0</td>\n",
              "    </tr>\n",
              "  </tbody>\n",
              "</table>\n",
              "</div>"
            ],
            "text/plain": [
              "   id    age  gender  height  weight  ...  gluc  smoke  alco  active  cardio\n",
              "0   0  18393       2     168    62.0  ...     1      0     0       1       0\n",
              "1   1  20228       1     156    85.0  ...     1      0     0       1       1\n",
              "2   2  18857       1     165    64.0  ...     1      0     0       0       1\n",
              "3   3  17623       2     169    82.0  ...     1      0     0       1       1\n",
              "4   4  17474       1     156    56.0  ...     1      0     0       0       0\n",
              "5   8  21914       1     151    67.0  ...     2      0     0       0       0\n",
              "6   9  22113       1     157    93.0  ...     1      0     0       1       0\n",
              "7  12  22584       2     178    95.0  ...     3      0     0       1       1\n",
              "8  13  17668       1     158    71.0  ...     1      0     0       1       0\n",
              "9  14  19834       1     164    68.0  ...     1      0     0       0       0\n",
              "\n",
              "[10 rows x 13 columns]"
            ]
          },
          "metadata": {
            "tags": []
          },
          "execution_count": 49
        }
      ]
    },
    {
      "cell_type": "code",
      "metadata": {
        "id": "tBfXWZNJSlgD",
        "colab_type": "code",
        "colab": {
          "base_uri": "https://localhost:8080/",
          "height": 321
        },
        "outputId": "97558361-978f-4794-e20d-d68927d39b14"
      },
      "source": [
        "#check for null values(run the cell)\n",
        "print(cardio_data.shape)\n",
        "cardio_data.describe()"
      ],
      "execution_count": null,
      "outputs": [
        {
          "output_type": "stream",
          "text": [
            "(70000, 13)\n"
          ],
          "name": "stdout"
        },
        {
          "output_type": "execute_result",
          "data": {
            "text/html": [
              "<div>\n",
              "<style scoped>\n",
              "    .dataframe tbody tr th:only-of-type {\n",
              "        vertical-align: middle;\n",
              "    }\n",
              "\n",
              "    .dataframe tbody tr th {\n",
              "        vertical-align: top;\n",
              "    }\n",
              "\n",
              "    .dataframe thead th {\n",
              "        text-align: right;\n",
              "    }\n",
              "</style>\n",
              "<table border=\"1\" class=\"dataframe\">\n",
              "  <thead>\n",
              "    <tr style=\"text-align: right;\">\n",
              "      <th></th>\n",
              "      <th>id</th>\n",
              "      <th>age</th>\n",
              "      <th>gender</th>\n",
              "      <th>height</th>\n",
              "      <th>weight</th>\n",
              "      <th>ap_hi</th>\n",
              "      <th>ap_lo</th>\n",
              "      <th>cholesterol</th>\n",
              "      <th>gluc</th>\n",
              "      <th>smoke</th>\n",
              "      <th>alco</th>\n",
              "      <th>active</th>\n",
              "      <th>cardio</th>\n",
              "    </tr>\n",
              "  </thead>\n",
              "  <tbody>\n",
              "    <tr>\n",
              "      <th>count</th>\n",
              "      <td>70000.000000</td>\n",
              "      <td>70000.000000</td>\n",
              "      <td>70000.000000</td>\n",
              "      <td>70000.000000</td>\n",
              "      <td>70000.000000</td>\n",
              "      <td>70000.000000</td>\n",
              "      <td>70000.000000</td>\n",
              "      <td>70000.000000</td>\n",
              "      <td>70000.000000</td>\n",
              "      <td>70000.000000</td>\n",
              "      <td>70000.000000</td>\n",
              "      <td>70000.000000</td>\n",
              "      <td>70000.000000</td>\n",
              "    </tr>\n",
              "    <tr>\n",
              "      <th>mean</th>\n",
              "      <td>49972.419900</td>\n",
              "      <td>19468.865814</td>\n",
              "      <td>1.349571</td>\n",
              "      <td>164.359229</td>\n",
              "      <td>74.205690</td>\n",
              "      <td>128.817286</td>\n",
              "      <td>96.630414</td>\n",
              "      <td>1.366871</td>\n",
              "      <td>1.226457</td>\n",
              "      <td>0.088129</td>\n",
              "      <td>0.053771</td>\n",
              "      <td>0.803729</td>\n",
              "      <td>0.499700</td>\n",
              "    </tr>\n",
              "    <tr>\n",
              "      <th>std</th>\n",
              "      <td>28851.302323</td>\n",
              "      <td>2467.251667</td>\n",
              "      <td>0.476838</td>\n",
              "      <td>8.210126</td>\n",
              "      <td>14.395757</td>\n",
              "      <td>154.011419</td>\n",
              "      <td>188.472530</td>\n",
              "      <td>0.680250</td>\n",
              "      <td>0.572270</td>\n",
              "      <td>0.283484</td>\n",
              "      <td>0.225568</td>\n",
              "      <td>0.397179</td>\n",
              "      <td>0.500003</td>\n",
              "    </tr>\n",
              "    <tr>\n",
              "      <th>min</th>\n",
              "      <td>0.000000</td>\n",
              "      <td>10798.000000</td>\n",
              "      <td>1.000000</td>\n",
              "      <td>55.000000</td>\n",
              "      <td>10.000000</td>\n",
              "      <td>-150.000000</td>\n",
              "      <td>-70.000000</td>\n",
              "      <td>1.000000</td>\n",
              "      <td>1.000000</td>\n",
              "      <td>0.000000</td>\n",
              "      <td>0.000000</td>\n",
              "      <td>0.000000</td>\n",
              "      <td>0.000000</td>\n",
              "    </tr>\n",
              "    <tr>\n",
              "      <th>25%</th>\n",
              "      <td>25006.750000</td>\n",
              "      <td>17664.000000</td>\n",
              "      <td>1.000000</td>\n",
              "      <td>159.000000</td>\n",
              "      <td>65.000000</td>\n",
              "      <td>120.000000</td>\n",
              "      <td>80.000000</td>\n",
              "      <td>1.000000</td>\n",
              "      <td>1.000000</td>\n",
              "      <td>0.000000</td>\n",
              "      <td>0.000000</td>\n",
              "      <td>1.000000</td>\n",
              "      <td>0.000000</td>\n",
              "    </tr>\n",
              "    <tr>\n",
              "      <th>50%</th>\n",
              "      <td>50001.500000</td>\n",
              "      <td>19703.000000</td>\n",
              "      <td>1.000000</td>\n",
              "      <td>165.000000</td>\n",
              "      <td>72.000000</td>\n",
              "      <td>120.000000</td>\n",
              "      <td>80.000000</td>\n",
              "      <td>1.000000</td>\n",
              "      <td>1.000000</td>\n",
              "      <td>0.000000</td>\n",
              "      <td>0.000000</td>\n",
              "      <td>1.000000</td>\n",
              "      <td>0.000000</td>\n",
              "    </tr>\n",
              "    <tr>\n",
              "      <th>75%</th>\n",
              "      <td>74889.250000</td>\n",
              "      <td>21327.000000</td>\n",
              "      <td>2.000000</td>\n",
              "      <td>170.000000</td>\n",
              "      <td>82.000000</td>\n",
              "      <td>140.000000</td>\n",
              "      <td>90.000000</td>\n",
              "      <td>2.000000</td>\n",
              "      <td>1.000000</td>\n",
              "      <td>0.000000</td>\n",
              "      <td>0.000000</td>\n",
              "      <td>1.000000</td>\n",
              "      <td>1.000000</td>\n",
              "    </tr>\n",
              "    <tr>\n",
              "      <th>max</th>\n",
              "      <td>99999.000000</td>\n",
              "      <td>23713.000000</td>\n",
              "      <td>2.000000</td>\n",
              "      <td>250.000000</td>\n",
              "      <td>200.000000</td>\n",
              "      <td>16020.000000</td>\n",
              "      <td>11000.000000</td>\n",
              "      <td>3.000000</td>\n",
              "      <td>3.000000</td>\n",
              "      <td>1.000000</td>\n",
              "      <td>1.000000</td>\n",
              "      <td>1.000000</td>\n",
              "      <td>1.000000</td>\n",
              "    </tr>\n",
              "  </tbody>\n",
              "</table>\n",
              "</div>"
            ],
            "text/plain": [
              "                 id           age  ...        active        cardio\n",
              "count  70000.000000  70000.000000  ...  70000.000000  70000.000000\n",
              "mean   49972.419900  19468.865814  ...      0.803729      0.499700\n",
              "std    28851.302323   2467.251667  ...      0.397179      0.500003\n",
              "min        0.000000  10798.000000  ...      0.000000      0.000000\n",
              "25%    25006.750000  17664.000000  ...      1.000000      0.000000\n",
              "50%    50001.500000  19703.000000  ...      1.000000      0.000000\n",
              "75%    74889.250000  21327.000000  ...      1.000000      1.000000\n",
              "max    99999.000000  23713.000000  ...      1.000000      1.000000\n",
              "\n",
              "[8 rows x 13 columns]"
            ]
          },
          "metadata": {
            "tags": []
          },
          "execution_count": 50
        }
      ]
    },
    {
      "cell_type": "markdown",
      "metadata": {
        "id": "l8ZpF4wMSlgK",
        "colab_type": "text"
      },
      "source": [
        "## Step-2 (changing the age to years)\n",
        "\n",
        "The dataset does'nt contain any null values but the age coloumn is in days and that is not the conventional way to represent someone's age so the next step is to change the age to years and rounding it to one decimal places"
      ]
    },
    {
      "cell_type": "code",
      "metadata": {
        "id": "eqv99SSmSlgL",
        "colab_type": "code",
        "colab": {}
      },
      "source": [
        "#never run this cell more than one time then it will give error\n",
        "#writing the function to change age\n",
        "def changeage(row):\n",
        "    row.age = round(row.age/365, 1)\n",
        "    return row\n",
        "\n",
        "#applying the function to every row of the dataset\n",
        "cardio_data = cardio_data.apply(changeage, axis = 1)"
      ],
      "execution_count": null,
      "outputs": []
    },
    {
      "cell_type": "code",
      "metadata": {
        "id": "pb8wnpDLSlgQ",
        "colab_type": "code",
        "colab": {
          "base_uri": "https://localhost:8080/",
          "height": 343
        },
        "outputId": "197249c0-6a22-453f-c0ab-96bf8b457eca"
      },
      "source": [
        "#checking out the data again\n",
        "cardio_data.head(10)"
      ],
      "execution_count": null,
      "outputs": [
        {
          "output_type": "execute_result",
          "data": {
            "text/html": [
              "<div>\n",
              "<style scoped>\n",
              "    .dataframe tbody tr th:only-of-type {\n",
              "        vertical-align: middle;\n",
              "    }\n",
              "\n",
              "    .dataframe tbody tr th {\n",
              "        vertical-align: top;\n",
              "    }\n",
              "\n",
              "    .dataframe thead th {\n",
              "        text-align: right;\n",
              "    }\n",
              "</style>\n",
              "<table border=\"1\" class=\"dataframe\">\n",
              "  <thead>\n",
              "    <tr style=\"text-align: right;\">\n",
              "      <th></th>\n",
              "      <th>id</th>\n",
              "      <th>age</th>\n",
              "      <th>gender</th>\n",
              "      <th>height</th>\n",
              "      <th>weight</th>\n",
              "      <th>ap_hi</th>\n",
              "      <th>ap_lo</th>\n",
              "      <th>cholesterol</th>\n",
              "      <th>gluc</th>\n",
              "      <th>smoke</th>\n",
              "      <th>alco</th>\n",
              "      <th>active</th>\n",
              "      <th>cardio</th>\n",
              "    </tr>\n",
              "  </thead>\n",
              "  <tbody>\n",
              "    <tr>\n",
              "      <th>0</th>\n",
              "      <td>0.0</td>\n",
              "      <td>50.4</td>\n",
              "      <td>2.0</td>\n",
              "      <td>168.0</td>\n",
              "      <td>62.0</td>\n",
              "      <td>110.0</td>\n",
              "      <td>80.0</td>\n",
              "      <td>1.0</td>\n",
              "      <td>1.0</td>\n",
              "      <td>0.0</td>\n",
              "      <td>0.0</td>\n",
              "      <td>1.0</td>\n",
              "      <td>0.0</td>\n",
              "    </tr>\n",
              "    <tr>\n",
              "      <th>1</th>\n",
              "      <td>1.0</td>\n",
              "      <td>55.4</td>\n",
              "      <td>1.0</td>\n",
              "      <td>156.0</td>\n",
              "      <td>85.0</td>\n",
              "      <td>140.0</td>\n",
              "      <td>90.0</td>\n",
              "      <td>3.0</td>\n",
              "      <td>1.0</td>\n",
              "      <td>0.0</td>\n",
              "      <td>0.0</td>\n",
              "      <td>1.0</td>\n",
              "      <td>1.0</td>\n",
              "    </tr>\n",
              "    <tr>\n",
              "      <th>2</th>\n",
              "      <td>2.0</td>\n",
              "      <td>51.7</td>\n",
              "      <td>1.0</td>\n",
              "      <td>165.0</td>\n",
              "      <td>64.0</td>\n",
              "      <td>130.0</td>\n",
              "      <td>70.0</td>\n",
              "      <td>3.0</td>\n",
              "      <td>1.0</td>\n",
              "      <td>0.0</td>\n",
              "      <td>0.0</td>\n",
              "      <td>0.0</td>\n",
              "      <td>1.0</td>\n",
              "    </tr>\n",
              "    <tr>\n",
              "      <th>3</th>\n",
              "      <td>3.0</td>\n",
              "      <td>48.3</td>\n",
              "      <td>2.0</td>\n",
              "      <td>169.0</td>\n",
              "      <td>82.0</td>\n",
              "      <td>150.0</td>\n",
              "      <td>100.0</td>\n",
              "      <td>1.0</td>\n",
              "      <td>1.0</td>\n",
              "      <td>0.0</td>\n",
              "      <td>0.0</td>\n",
              "      <td>1.0</td>\n",
              "      <td>1.0</td>\n",
              "    </tr>\n",
              "    <tr>\n",
              "      <th>4</th>\n",
              "      <td>4.0</td>\n",
              "      <td>47.9</td>\n",
              "      <td>1.0</td>\n",
              "      <td>156.0</td>\n",
              "      <td>56.0</td>\n",
              "      <td>100.0</td>\n",
              "      <td>60.0</td>\n",
              "      <td>1.0</td>\n",
              "      <td>1.0</td>\n",
              "      <td>0.0</td>\n",
              "      <td>0.0</td>\n",
              "      <td>0.0</td>\n",
              "      <td>0.0</td>\n",
              "    </tr>\n",
              "    <tr>\n",
              "      <th>5</th>\n",
              "      <td>8.0</td>\n",
              "      <td>60.0</td>\n",
              "      <td>1.0</td>\n",
              "      <td>151.0</td>\n",
              "      <td>67.0</td>\n",
              "      <td>120.0</td>\n",
              "      <td>80.0</td>\n",
              "      <td>2.0</td>\n",
              "      <td>2.0</td>\n",
              "      <td>0.0</td>\n",
              "      <td>0.0</td>\n",
              "      <td>0.0</td>\n",
              "      <td>0.0</td>\n",
              "    </tr>\n",
              "    <tr>\n",
              "      <th>6</th>\n",
              "      <td>9.0</td>\n",
              "      <td>60.6</td>\n",
              "      <td>1.0</td>\n",
              "      <td>157.0</td>\n",
              "      <td>93.0</td>\n",
              "      <td>130.0</td>\n",
              "      <td>80.0</td>\n",
              "      <td>3.0</td>\n",
              "      <td>1.0</td>\n",
              "      <td>0.0</td>\n",
              "      <td>0.0</td>\n",
              "      <td>1.0</td>\n",
              "      <td>0.0</td>\n",
              "    </tr>\n",
              "    <tr>\n",
              "      <th>7</th>\n",
              "      <td>12.0</td>\n",
              "      <td>61.9</td>\n",
              "      <td>2.0</td>\n",
              "      <td>178.0</td>\n",
              "      <td>95.0</td>\n",
              "      <td>130.0</td>\n",
              "      <td>90.0</td>\n",
              "      <td>3.0</td>\n",
              "      <td>3.0</td>\n",
              "      <td>0.0</td>\n",
              "      <td>0.0</td>\n",
              "      <td>1.0</td>\n",
              "      <td>1.0</td>\n",
              "    </tr>\n",
              "    <tr>\n",
              "      <th>8</th>\n",
              "      <td>13.0</td>\n",
              "      <td>48.4</td>\n",
              "      <td>1.0</td>\n",
              "      <td>158.0</td>\n",
              "      <td>71.0</td>\n",
              "      <td>110.0</td>\n",
              "      <td>70.0</td>\n",
              "      <td>1.0</td>\n",
              "      <td>1.0</td>\n",
              "      <td>0.0</td>\n",
              "      <td>0.0</td>\n",
              "      <td>1.0</td>\n",
              "      <td>0.0</td>\n",
              "    </tr>\n",
              "    <tr>\n",
              "      <th>9</th>\n",
              "      <td>14.0</td>\n",
              "      <td>54.3</td>\n",
              "      <td>1.0</td>\n",
              "      <td>164.0</td>\n",
              "      <td>68.0</td>\n",
              "      <td>110.0</td>\n",
              "      <td>60.0</td>\n",
              "      <td>1.0</td>\n",
              "      <td>1.0</td>\n",
              "      <td>0.0</td>\n",
              "      <td>0.0</td>\n",
              "      <td>0.0</td>\n",
              "      <td>0.0</td>\n",
              "    </tr>\n",
              "  </tbody>\n",
              "</table>\n",
              "</div>"
            ],
            "text/plain": [
              "     id   age  gender  height  weight  ...  gluc  smoke  alco  active  cardio\n",
              "0   0.0  50.4     2.0   168.0    62.0  ...   1.0    0.0   0.0     1.0     0.0\n",
              "1   1.0  55.4     1.0   156.0    85.0  ...   1.0    0.0   0.0     1.0     1.0\n",
              "2   2.0  51.7     1.0   165.0    64.0  ...   1.0    0.0   0.0     0.0     1.0\n",
              "3   3.0  48.3     2.0   169.0    82.0  ...   1.0    0.0   0.0     1.0     1.0\n",
              "4   4.0  47.9     1.0   156.0    56.0  ...   1.0    0.0   0.0     0.0     0.0\n",
              "5   8.0  60.0     1.0   151.0    67.0  ...   2.0    0.0   0.0     0.0     0.0\n",
              "6   9.0  60.6     1.0   157.0    93.0  ...   1.0    0.0   0.0     1.0     0.0\n",
              "7  12.0  61.9     2.0   178.0    95.0  ...   3.0    0.0   0.0     1.0     1.0\n",
              "8  13.0  48.4     1.0   158.0    71.0  ...   1.0    0.0   0.0     1.0     0.0\n",
              "9  14.0  54.3     1.0   164.0    68.0  ...   1.0    0.0   0.0     0.0     0.0\n",
              "\n",
              "[10 rows x 13 columns]"
            ]
          },
          "metadata": {
            "tags": []
          },
          "execution_count": 52
        }
      ]
    },
    {
      "cell_type": "code",
      "metadata": {
        "id": "9HA9kJBdSlgV",
        "colab_type": "code",
        "colab": {
          "base_uri": "https://localhost:8080/",
          "height": 168
        },
        "outputId": "4856c2db-5bfd-4a30-b205-80fc2c784131"
      },
      "source": [
        "#checking the minimun and maximum value in the age column\n",
        "\n",
        "cardio_data.age.describe()"
      ],
      "execution_count": null,
      "outputs": [
        {
          "output_type": "execute_result",
          "data": {
            "text/plain": [
              "count    70000.000000\n",
              "mean        53.339486\n",
              "std          6.759534\n",
              "min         29.600000\n",
              "25%         48.400000\n",
              "50%         54.000000\n",
              "75%         58.400000\n",
              "max         65.000000\n",
              "Name: age, dtype: float64"
            ]
          },
          "metadata": {
            "tags": []
          },
          "execution_count": 53
        }
      ]
    },
    {
      "cell_type": "markdown",
      "metadata": {
        "id": "ZVJ3TdZKSlgb",
        "colab_type": "text"
      },
      "source": [
        "We can see that the person with the minimum age in the dataset is 29.6 years old so there is no need to classify the ages into to sub-catagories(i.e: minor, major). Now the next step isto visualize the data and checkout the co-relation between different features."
      ]
    },
    {
      "cell_type": "markdown",
      "metadata": {
        "id": "nkz7e6H1Slgc",
        "colab_type": "text"
      },
      "source": [
        "## Step-3 (Creating two new column for ap_hi and ap_lo)\n",
        "\n",
        "The column 'ap_hi' and 'ap_lo' consists many irrelevant values. To tackle those we can create a new feature high_bp where if the systolic pressure is higher than medical prescribed value 140 or the diastolic pressure is higher than medical prescribed value 90 then we consider it as high blood pressure which is relevent while studying cardiovascular diseases. So in the coloumn hi_bp we will put 1 if the person has high blood pressure else we will put 0."
      ]
    },
    {
      "cell_type": "code",
      "metadata": {
        "id": "Zrk7Nu5VSlgd",
        "colab_type": "code",
        "colab": {}
      },
      "source": [
        "#creating a new column:\n",
        "def createHighBp(row):\n",
        "    if row.ap_hi >= 140 or row.ap_lo >= 90:\n",
        "        row['high_bp'] = 1\n",
        "        return row\n",
        "    else:\n",
        "        row['high_bp'] = 0\n",
        "        return row\n",
        "\n",
        "#applying the function\n",
        "cardio_data = cardio_data.apply(createHighBp, axis = 1)\n"
      ],
      "execution_count": null,
      "outputs": []
    },
    {
      "cell_type": "code",
      "metadata": {
        "id": "Og_dL1jwSlgh",
        "colab_type": "code",
        "colab": {
          "base_uri": "https://localhost:8080/",
          "height": 195
        },
        "outputId": "4a1695fb-16a1-437c-805d-2db5f44bf6ad"
      },
      "source": [
        "#checking the data set again\n",
        "cardio_data.head()"
      ],
      "execution_count": null,
      "outputs": [
        {
          "output_type": "execute_result",
          "data": {
            "text/html": [
              "<div>\n",
              "<style scoped>\n",
              "    .dataframe tbody tr th:only-of-type {\n",
              "        vertical-align: middle;\n",
              "    }\n",
              "\n",
              "    .dataframe tbody tr th {\n",
              "        vertical-align: top;\n",
              "    }\n",
              "\n",
              "    .dataframe thead th {\n",
              "        text-align: right;\n",
              "    }\n",
              "</style>\n",
              "<table border=\"1\" class=\"dataframe\">\n",
              "  <thead>\n",
              "    <tr style=\"text-align: right;\">\n",
              "      <th></th>\n",
              "      <th>id</th>\n",
              "      <th>age</th>\n",
              "      <th>gender</th>\n",
              "      <th>height</th>\n",
              "      <th>weight</th>\n",
              "      <th>ap_hi</th>\n",
              "      <th>ap_lo</th>\n",
              "      <th>cholesterol</th>\n",
              "      <th>gluc</th>\n",
              "      <th>smoke</th>\n",
              "      <th>alco</th>\n",
              "      <th>active</th>\n",
              "      <th>cardio</th>\n",
              "      <th>high_bp</th>\n",
              "    </tr>\n",
              "  </thead>\n",
              "  <tbody>\n",
              "    <tr>\n",
              "      <th>0</th>\n",
              "      <td>0.0</td>\n",
              "      <td>50.4</td>\n",
              "      <td>2.0</td>\n",
              "      <td>168.0</td>\n",
              "      <td>62.0</td>\n",
              "      <td>110.0</td>\n",
              "      <td>80.0</td>\n",
              "      <td>1.0</td>\n",
              "      <td>1.0</td>\n",
              "      <td>0.0</td>\n",
              "      <td>0.0</td>\n",
              "      <td>1.0</td>\n",
              "      <td>0.0</td>\n",
              "      <td>0.0</td>\n",
              "    </tr>\n",
              "    <tr>\n",
              "      <th>1</th>\n",
              "      <td>1.0</td>\n",
              "      <td>55.4</td>\n",
              "      <td>1.0</td>\n",
              "      <td>156.0</td>\n",
              "      <td>85.0</td>\n",
              "      <td>140.0</td>\n",
              "      <td>90.0</td>\n",
              "      <td>3.0</td>\n",
              "      <td>1.0</td>\n",
              "      <td>0.0</td>\n",
              "      <td>0.0</td>\n",
              "      <td>1.0</td>\n",
              "      <td>1.0</td>\n",
              "      <td>1.0</td>\n",
              "    </tr>\n",
              "    <tr>\n",
              "      <th>2</th>\n",
              "      <td>2.0</td>\n",
              "      <td>51.7</td>\n",
              "      <td>1.0</td>\n",
              "      <td>165.0</td>\n",
              "      <td>64.0</td>\n",
              "      <td>130.0</td>\n",
              "      <td>70.0</td>\n",
              "      <td>3.0</td>\n",
              "      <td>1.0</td>\n",
              "      <td>0.0</td>\n",
              "      <td>0.0</td>\n",
              "      <td>0.0</td>\n",
              "      <td>1.0</td>\n",
              "      <td>0.0</td>\n",
              "    </tr>\n",
              "    <tr>\n",
              "      <th>3</th>\n",
              "      <td>3.0</td>\n",
              "      <td>48.3</td>\n",
              "      <td>2.0</td>\n",
              "      <td>169.0</td>\n",
              "      <td>82.0</td>\n",
              "      <td>150.0</td>\n",
              "      <td>100.0</td>\n",
              "      <td>1.0</td>\n",
              "      <td>1.0</td>\n",
              "      <td>0.0</td>\n",
              "      <td>0.0</td>\n",
              "      <td>1.0</td>\n",
              "      <td>1.0</td>\n",
              "      <td>1.0</td>\n",
              "    </tr>\n",
              "    <tr>\n",
              "      <th>4</th>\n",
              "      <td>4.0</td>\n",
              "      <td>47.9</td>\n",
              "      <td>1.0</td>\n",
              "      <td>156.0</td>\n",
              "      <td>56.0</td>\n",
              "      <td>100.0</td>\n",
              "      <td>60.0</td>\n",
              "      <td>1.0</td>\n",
              "      <td>1.0</td>\n",
              "      <td>0.0</td>\n",
              "      <td>0.0</td>\n",
              "      <td>0.0</td>\n",
              "      <td>0.0</td>\n",
              "      <td>0.0</td>\n",
              "    </tr>\n",
              "  </tbody>\n",
              "</table>\n",
              "</div>"
            ],
            "text/plain": [
              "    id   age  gender  height  weight  ...  smoke  alco  active  cardio  high_bp\n",
              "0  0.0  50.4     2.0   168.0    62.0  ...    0.0   0.0     1.0     0.0      0.0\n",
              "1  1.0  55.4     1.0   156.0    85.0  ...    0.0   0.0     1.0     1.0      1.0\n",
              "2  2.0  51.7     1.0   165.0    64.0  ...    0.0   0.0     0.0     1.0      0.0\n",
              "3  3.0  48.3     2.0   169.0    82.0  ...    0.0   0.0     1.0     1.0      1.0\n",
              "4  4.0  47.9     1.0   156.0    56.0  ...    0.0   0.0     0.0     0.0      0.0\n",
              "\n",
              "[5 rows x 14 columns]"
            ]
          },
          "metadata": {
            "tags": []
          },
          "execution_count": 55
        }
      ]
    },
    {
      "cell_type": "markdown",
      "metadata": {
        "id": "LuoVjzLSSlgm",
        "colab_type": "text"
      },
      "source": [
        "## Step-4 (importing data visualization libraries)\n",
        "Now we have to visualize the data to see the co-relation between different features and try to figure out how they are related.\n",
        "For data visualization I will use seaborn and matplotlib library"
      ]
    },
    {
      "cell_type": "code",
      "metadata": {
        "id": "elNYrcrASlgm",
        "colab_type": "code",
        "colab": {}
      },
      "source": [
        "#importing matplotlib and seaborn\n",
        "\n",
        "import matplotlib.pyplot as plt\n",
        "import seaborn as sns"
      ],
      "execution_count": null,
      "outputs": []
    },
    {
      "cell_type": "markdown",
      "metadata": {
        "id": "LoI5dFcsSlgr",
        "colab_type": "text"
      },
      "source": [
        "## Age v/s Cardiovascular disease analysis\n",
        "###### The X-axis represents the people having anykind of cardiocasular disease.\n",
        "Those who have anykind of cardiovascular disease are represented by 1.0 and those who don't have anykind kind of cardiovascular disease are represented by 0.0\n",
        "###### The Y-axis represents age of people examined.\n",
        "The initial data set had the ages in days but in step-2 we change the age to years and y axis represents that\n",
        "\n"
      ]
    },
    {
      "cell_type": "code",
      "metadata": {
        "id": "roKsbk_ESlgt",
        "colab_type": "code",
        "colab": {
          "base_uri": "https://localhost:8080/",
          "height": 405
        },
        "outputId": "6ee2b8a3-dafb-4119-e489-9d163ea92742"
      },
      "source": [
        "#plotting violin plot to visualize the distribution\n",
        "plt.figure(figsize = (12,6))\n",
        "sns.violinplot(x = cardio_data.cardio, y = cardio_data.age)"
      ],
      "execution_count": null,
      "outputs": [
        {
          "output_type": "execute_result",
          "data": {
            "text/plain": [
              "<matplotlib.axes._subplots.AxesSubplot at 0x7f240648c080>"
            ]
          },
          "metadata": {
            "tags": []
          },
          "execution_count": 57
        },
        {
          "output_type": "display_data",
          "data": {
            "image/png": "[encoded data removed]",
            "text/plain": [
              "<Figure size 864x432 with 1 Axes>"
            ]
          },
          "metadata": {
            "tags": [],
            "needs_background": "light"
          }
        }
      ]
    },
    {
      "cell_type": "markdown",
      "metadata": {
        "id": "jZoZx7bCSlg0",
        "colab_type": "text"
      },
      "source": [
        "### Analysis:\n",
        "1. As we can see in the people with cardiovascular diseases (i.e: Orange distribution) distribution the distribution triangle is upside down and that implies that number of sample with cardiovascular diseases increase with increase in age so it varies linearly\n",
        "\n",
        "2. In the people without cardiovascular diseases (i.e: Blue Distribution) there are no definite geometrical shape but we can consider it as a combination of two triangles whose vertex is facing upwards. Which implies that with increase in age the number of people without cardiovascular diseases decreases.\n",
        "\n",
        "3. The reason for the uncertainity in the shape of the distribution without cardiovascular diseases maybe because of the sudden increase of samples in the dataset.\n",
        "\n",
        "4. Both the distribution implies the same thing and that is people with higher age are more tend to have cardiovascular diseases than people with lower age.\n",
        "\n",
        "To know more about reading the violin plot refer to this link: https://seaborn.pydata.org/generated/seaborn.violinplot.html"
      ]
    },
    {
      "cell_type": "markdown",
      "metadata": {
        "id": "r02D_Yf0Slg1",
        "colab_type": "text"
      },
      "source": [
        "## Gender vs Cardiovascular disease analysis\n",
        "#### The X-axis represents gender of the sample where 1 represents women and 2 represents men\n",
        "#### The Y-axis represents cardiovascular diseases where 1 represents it is presents and 0 represents it is not present\n"
      ]
    },
    {
      "cell_type": "code",
      "metadata": {
        "id": "pa1GRM0gSlg2",
        "colab_type": "code",
        "colab": {
          "base_uri": "https://localhost:8080/",
          "height": 405
        },
        "outputId": "64392036-04a3-4933-c034-b69e63199637"
      },
      "source": [
        "#plotting violin plot to visualize the distribution\n",
        "plt.figure(figsize=(12,6))\n",
        "sns.violinplot(x = cardio_data.gender, y = cardio_data.cardio)"
      ],
      "execution_count": null,
      "outputs": [
        {
          "output_type": "execute_result",
          "data": {
            "text/plain": [
              "<matplotlib.axes._subplots.AxesSubplot at 0x7f240ffc6908>"
            ]
          },
          "metadata": {
            "tags": []
          },
          "execution_count": 58
        },
        {
          "output_type": "display_data",
          "data": {
            "image/png": "[encoded data removed]",
            "text/plain": [
              "<Figure size 864x432 with 1 Axes>"
            ]
          },
          "metadata": {
            "tags": [],
            "needs_background": "light"
          }
        }
      ]
    },
    {
      "cell_type": "markdown",
      "metadata": {
        "id": "XW_985qYSlg6",
        "colab_type": "text"
      },
      "source": [
        "### Analysis\n",
        "For both female(i.e: blue distribution) and male(i.e: orange distribution) the width of the the violin plot is more or less same which implies that cardiovascular diseases are gender independent. Though something to notice is that for female samples the median is at 0 (absence cardiovascular disease) and for male samples the median is at 1(Presence of cardiovascular disease ). Even if there is any co-relation with gender and cardiovascular disease we cannot include it to train our machine learning model."
      ]
    },
    {
      "cell_type": "markdown",
      "metadata": {
        "id": "bYfXMnOfSlg7",
        "colab_type": "text"
      },
      "source": [
        "## Height vs Cardiovascular diseases analysis\n",
        "#### The X-axis represents the presence (i.e: 1.0) or absence (i.e: 0.0) of cardiovascular diseases.\n",
        "\n",
        "#### The Y-axis represents the Height of each sample (in centimeters).\n"
      ]
    },
    {
      "cell_type": "code",
      "metadata": {
        "id": "lxGdwN_YSlg8",
        "colab_type": "code",
        "colab": {
          "base_uri": "https://localhost:8080/",
          "height": 405
        },
        "outputId": "7d0808c0-03f9-4fbc-b1f6-65cf0e0dfa63"
      },
      "source": [
        "#plotting violin plot to visualize the distribution\n",
        "plt.figure(figsize = (12,6))\n",
        "sns.violinplot(x = cardio_data.cardio, y = cardio_data.height)"
      ],
      "execution_count": null,
      "outputs": [
        {
          "output_type": "execute_result",
          "data": {
            "text/plain": [
              "<matplotlib.axes._subplots.AxesSubplot at 0x7f2439e046a0>"
            ]
          },
          "metadata": {
            "tags": []
          },
          "execution_count": 59
        },
        {
          "output_type": "display_data",
          "data": {
            "image/png": "[encoded data removed]",
            "text/plain": [
              "<Figure size 864x432 with 1 Axes>"
            ]
          },
          "metadata": {
            "tags": [],
            "needs_background": "light"
          }
        }
      ]
    },
    {
      "cell_type": "markdown",
      "metadata": {
        "id": "tNwgTs_kSlhA",
        "colab_type": "text"
      },
      "source": [
        "## Analysis\n",
        "\n",
        "Just like gender here also the distribution of cardiovascular disease is independent of sample's height. In both the distribution(i.e: presence and absence of Cardiovascular disease) the median value of height is same and the shape of the distribution curve is also similar. So, we cannot use height as a feature to train our machine learning model."
      ]
    },
    {
      "cell_type": "markdown",
      "metadata": {
        "id": "SmQNA-sDSlhB",
        "colab_type": "text"
      },
      "source": [
        "## Weight vs Cardiovascular diseases analysis\n",
        "##### The X-axis represents the presence (i.e: 1.0) or absence (i.e: 0.0) of cardiovascular diseases.\n",
        "\n",
        "##### The Y-axis represents the weight of each sample (in kilograms).\n",
        "\n"
      ]
    },
    {
      "cell_type": "code",
      "metadata": {
        "id": "XksuSOOySlhC",
        "colab_type": "code",
        "colab": {
          "base_uri": "https://localhost:8080/",
          "height": 405
        },
        "outputId": "177ce474-6cf5-4e64-9795-b6271f0195a0"
      },
      "source": [
        "#plotting violin plot to visualize the distribution\n",
        "plt.figure(figsize =(12,6))\n",
        "sns.violinplot(x = cardio_data.cardio , y = cardio_data.weight)"
      ],
      "execution_count": null,
      "outputs": [
        {
          "output_type": "execute_result",
          "data": {
            "text/plain": [
              "<matplotlib.axes._subplots.AxesSubplot at 0x7f24594af3c8>"
            ]
          },
          "metadata": {
            "tags": []
          },
          "execution_count": 60
        },
        {
          "output_type": "display_data",
          "data": {
            "image/png": "[encoded data removed]",
            "text/plain": [
              "<Figure size 864x432 with 1 Axes>"
            ]
          },
          "metadata": {
            "tags": [],
            "needs_background": "light"
          }
        }
      ]
    },
    {
      "cell_type": "markdown",
      "metadata": {
        "id": "AHzTTP3ESlhJ",
        "colab_type": "text"
      },
      "source": [
        "## Analysis\n",
        "\n",
        "Just like height here also the distribution of cardiovascular disease is independent of sample's weight. In both the distribution(i.e: presence and absence of Cardiovascular disease) the median value of weight is same and the shape of the distribution curve is also similar. So, we cannot use weight as a feature to train our machine learning model."
      ]
    },
    {
      "cell_type": "markdown",
      "metadata": {
        "id": "gXKF5Dd7SlhL",
        "colab_type": "text"
      },
      "source": [
        "## Hi_bp vs Cardiovascular diseases\n",
        "#### The X-axis represents hi_bp (i.e: 1 if the sample has high blood pressure, else 1) \n",
        "#### The Y-axis represents if a person has cardiovascular diseases or not"
      ]
    },
    {
      "cell_type": "code",
      "metadata": {
        "id": "-tqVQXK3SlhN",
        "colab_type": "code",
        "colab": {
          "base_uri": "https://localhost:8080/",
          "height": 406
        },
        "outputId": "97cb608a-0ac4-4659-b67b-f3b85615fd27"
      },
      "source": [
        "#plotting violin plot to visualize the distribution\n",
        "plt.figure(figsize =(12,6))\n",
        "sns.violinplot(x = cardio_data.high_bp , y = cardio_data.cardio)"
      ],
      "execution_count": null,
      "outputs": [
        {
          "output_type": "execute_result",
          "data": {
            "text/plain": [
              "<matplotlib.axes._subplots.AxesSubplot at 0x7f2439e5fc18>"
            ]
          },
          "metadata": {
            "tags": []
          },
          "execution_count": 61
        },
        {
          "output_type": "display_data",
          "data": {
            "image/png": "[encoded data removed]",
            "text/plain": [
              "<Figure size 864x432 with 1 Axes>"
            ]
          },
          "metadata": {
            "tags": [],
            "needs_background": "light"
          }
        }
      ]
    },
    {
      "cell_type": "markdown",
      "metadata": {
        "id": "9eTi70oDSlhV",
        "colab_type": "text"
      },
      "source": [
        "### Analysis\n",
        "\n",
        "The graph shows that those who have high blood pressure are more tend to have cardiovascular diseases and who have low blood pressure have a low tendency to have cardiovascular diseases."
      ]
    },
    {
      "cell_type": "markdown",
      "metadata": {
        "id": "gBP4meDRSlhZ",
        "colab_type": "text"
      },
      "source": [
        "## Cholesterol vs Cardiovascular diseases\n",
        "\n",
        "#### The X-axis represents cholesterol (i.e: 1 if the sample normal has cholesterol level, 3 if the sample has way above average cholesterol) \n",
        "#### The Y-axis represents if a person has cardiovascular diseases or not"
      ]
    },
    {
      "cell_type": "code",
      "metadata": {
        "id": "KOzPf7SdSlhb",
        "colab_type": "code",
        "colab": {
          "base_uri": "https://localhost:8080/",
          "height": 405
        },
        "outputId": "8bfa705c-93d7-4cef-94b0-c855887ec820"
      },
      "source": [
        "#plotting violin plot to visualize the distribution\n",
        "plt.figure(figsize =(12,6))\n",
        "sns.violinplot(x = cardio_data.cholesterol , y = cardio_data.cardio)"
      ],
      "execution_count": null,
      "outputs": [
        {
          "output_type": "execute_result",
          "data": {
            "text/plain": [
              "<matplotlib.axes._subplots.AxesSubplot at 0x7f24179c0b00>"
            ]
          },
          "metadata": {
            "tags": []
          },
          "execution_count": 62
        },
        {
          "output_type": "display_data",
          "data": {
            "image/png": "[encoded data removed]",
            "text/plain": [
              "<Figure size 864x432 with 1 Axes>"
            ]
          },
          "metadata": {
            "tags": [],
            "needs_background": "light"
          }
        }
      ]
    },
    {
      "cell_type": "markdown",
      "metadata": {
        "id": "7gBvasRSSlhk",
        "colab_type": "text"
      },
      "source": [
        "### Analysis \n",
        "As we can see from the image, samples with 3rd level cholesterol has a higher tendency to have cardiovascular diseases"
      ]
    },
    {
      "cell_type": "markdown",
      "metadata": {
        "id": "3cYpS1s2Slhl",
        "colab_type": "text"
      },
      "source": [
        "## Blood Glucose Level vs Cardiovascular diseases\n",
        "\n",
        "##### The X-axis represents glucose level (i.e: 1 if the sample has normal glucose level, 3 if the sample has way above average glucose level) \n",
        "##### The Y-axis represents if a person has cardiovascular diseases or not"
      ]
    },
    {
      "cell_type": "code",
      "metadata": {
        "id": "HALAaCjgSlhl",
        "colab_type": "code",
        "colab": {
          "base_uri": "https://localhost:8080/",
          "height": 405
        },
        "outputId": "d6fe7e61-996b-4e7d-dd17-5a641081aee2"
      },
      "source": [
        "#plotting violin plot to visualize the distribution\n",
        "plt.figure(figsize =(12,6))\n",
        "sns.violinplot(x = cardio_data.gluc , y = cardio_data.cardio)"
      ],
      "execution_count": null,
      "outputs": [
        {
          "output_type": "execute_result",
          "data": {
            "text/plain": [
              "<matplotlib.axes._subplots.AxesSubplot at 0x7f2415dc7748>"
            ]
          },
          "metadata": {
            "tags": []
          },
          "execution_count": 63
        },
        {
          "output_type": "display_data",
          "data": {
            "image/png": "[encoded data removed]",
            "text/plain": [
              "<Figure size 864x432 with 1 Axes>"
            ]
          },
          "metadata": {
            "tags": [],
            "needs_background": "light"
          }
        }
      ]
    },
    {
      "cell_type": "markdown",
      "metadata": {
        "id": "2qqEE3WkSlht",
        "colab_type": "text"
      },
      "source": [
        "### Analysis \n",
        "As we can see from the image, samples with 3rd level glucose has a slightly higher tendency to have cardiovascular diseases than people with level 2 or level 3 blood glucose level"
      ]
    },
    {
      "cell_type": "markdown",
      "metadata": {
        "id": "SZzTodZcSlht",
        "colab_type": "text"
      },
      "source": [
        "## Smoke, alcohol, active vs Cardiovascular diseases\n",
        "\n",
        "##### The Y-axis represents smoke, alcohol, active  level (i.e: 1 for positive, 0 for negative) \n",
        "##### The X-axis represents if a person has cardiovascular diseases or not"
      ]
    },
    {
      "cell_type": "code",
      "metadata": {
        "id": "dlQzpc6iSlhu",
        "colab_type": "code",
        "colab": {
          "base_uri": "https://localhost:8080/",
          "height": 803
        },
        "outputId": "2eacf620-d903-46b9-95d2-aceb1195d6ab"
      },
      "source": [
        "#plotting violin plot of smoke vs cardiovascular diseases\n",
        "\n",
        "sns.violinplot(x = cardio_data.cardio , y = cardio_data.smoke)\n",
        "plt.show()\n",
        "\n",
        "#plotting violin plot of alcohol vs cardiovascular diseases\n",
        "\n",
        "sns.violinplot(x = cardio_data.cardio , y = cardio_data.alco)\n",
        "plt.show()\n",
        "\n",
        "#plotting violin plot of physical activity vs cardiovascular diseases\n",
        "\n",
        "sns.violinplot(x = cardio_data.cardio , y = cardio_data.active)\n",
        "plt.show()\n",
        "\n",
        "\n"
      ],
      "execution_count": null,
      "outputs": [
        {
          "output_type": "display_data",
          "data": {
            "image/png": "[encoded data removed]",
            "text/plain": [
              "<Figure size 432x288 with 1 Axes>"
            ]
          },
          "metadata": {
            "tags": [],
            "needs_background": "light"
          }
        },
        {
          "output_type": "display_data",
          "data": {
            "image/png": "[encoded data removed]",
            "text/plain": [
              "<Figure size 432x288 with 1 Axes>"
            ]
          },
          "metadata": {
            "tags": [],
            "needs_background": "light"
          }
        },
        {
          "output_type": "display_data",
          "data": {
            "image/png": "[encoded data removed]",
            "text/plain": [
              "<Figure size 432x288 with 1 Axes>"
            ]
          },
          "metadata": {
            "tags": [],
            "needs_background": "light"
          }
        }
      ]
    },
    {
      "cell_type": "markdown",
      "metadata": {
        "id": "pfjwQwJdSlh0",
        "colab_type": "text"
      },
      "source": [
        "### Analysis\n",
        "\n",
        "For the above the figure in all the cases the diagram for people having cardiovascular diseases and people not having cardiovascular diseases are the same. So even if they are important feature to predict cardiovascular diseases in real life, we can not use these three features to train our machine learninf model"
      ]
    },
    {
      "cell_type": "markdown",
      "metadata": {
        "id": "mvuasGEkSlh1",
        "colab_type": "text"
      },
      "source": [
        " "
      ]
    },
    {
      "cell_type": "markdown",
      "metadata": {
        "id": "YJREtb-MSlh1",
        "colab_type": "text"
      },
      "source": [
        " "
      ]
    },
    {
      "cell_type": "markdown",
      "metadata": {
        "id": "Kw0ROJUMSlh2",
        "colab_type": "text"
      },
      "source": [
        "# Building Machine learning model"
      ]
    },
    {
      "cell_type": "markdown",
      "metadata": {
        "id": "vX5m5GsQSlh3",
        "colab_type": "text"
      },
      "source": [
        "#### Usually Machine learning model building is a pretty code-heavy and regorous process. Before starting this project i decided to stick with KNN for my machine learning model but yesterday i came across the pycaret library for machine learning at it looked pretty promising so i decided to ditch the idea of using KNN and insted i chose pycaret library "
      ]
    },
    {
      "cell_type": "code",
      "metadata": {
        "id": "2FMAVedqSlh4",
        "colab_type": "code",
        "colab": {}
      },
      "source": [
        "#installing pycaret library\n",
        "#uncomment the below code to install pycaret\n",
        "#!pip install pycaret"
      ],
      "execution_count": null,
      "outputs": []
    },
    {
      "cell_type": "code",
      "metadata": {
        "id": "zmfFCmkDVTyC",
        "colab_type": "code",
        "colab": {
          "base_uri": "https://localhost:8080/",
          "height": 34
        },
        "outputId": "369f2bc7-688c-47e4-dbae-d439e15475e8"
      },
      "source": [
        "#check pycaret version\n",
        "from pycaret.utils import version\n",
        "version()"
      ],
      "execution_count": null,
      "outputs": [
        {
          "output_type": "stream",
          "text": [
            "2.0\n"
          ],
          "name": "stdout"
        }
      ]
    },
    {
      "cell_type": "code",
      "metadata": {
        "id": "CAf_zydcdlOl",
        "colab_type": "code",
        "colab": {}
      },
      "source": [
        "data = pd.read_csv('/cardio_train.csv',sep = ';')"
      ],
      "execution_count": 169,
      "outputs": []
    },
    {
      "cell_type": "code",
      "metadata": {
        "id": "j692dJzyc-js",
        "colab_type": "code",
        "colab": {}
      },
      "source": [
        "data.drop('id', axis = 1, inplace = True)"
      ],
      "execution_count": 170,
      "outputs": []
    },
    {
      "cell_type": "markdown",
      "metadata": {
        "id": "0ojVqyTTSE3_",
        "colab_type": "text"
      },
      "source": [
        "### Comparing baseline models"
      ]
    },
    {
      "cell_type": "code",
      "metadata": {
        "id": "nxdN2hlRW7_6",
        "colab_type": "code",
        "colab": {
          "base_uri": "https://localhost:8080/",
          "height": 935,
          "referenced_widgets": [
            "e83bdbdb1d304521be9ef1e53a038838",
            "e49e688018d44f239969f2172e8013dd",
            "6d798d1149ab49d7a152011827f1dac3",
            "7075d264cd0348fba36f52ae18c4687d",
            "1f224d152c934a5a9ce7937bd6c20b75",
            "32fb01fd80a34008b82caea277ade6f4"
          ]
        },
        "outputId": "d924712a-76e7-4b5a-c53b-ea4d1a6621ee"
      },
      "source": [
        "#model without 'high_bp' column\n",
        "from pycaret.classification import *\n",
        "clf1 = setup(data, target = 'cardio', session_id=123, log_experiment=True, experiment_name='cardio1')\n",
        " "
      ],
      "execution_count": 173,
      "outputs": [
        {
          "output_type": "stream",
          "text": [
            "Setup Succesfully Completed!\n"
          ],
          "name": "stdout"
        },
        {
          "output_type": "display_data",
          "data": {
            "text/html": [
              "<style  type=\"text/css\" >\n",
              "</style><table id=\"T_5e4ca712_d589_11ea_90fa_0242ac1c0002\" ><thead>    <tr>        <th class=\"blank level0\" ></th>        <th class=\"col_heading level0 col0\" >Description</th>        <th class=\"col_heading level0 col1\" >Value</th>    </tr></thead><tbody>\n",
              "                <tr>\n",
              "                        <th id=\"T_5e4ca712_d589_11ea_90fa_0242ac1c0002level0_row0\" class=\"row_heading level0 row0\" >0</th>\n",
              "                        <td id=\"T_5e4ca712_d589_11ea_90fa_0242ac1c0002row0_col0\" class=\"data row0 col0\" >session_id</td>\n",
              "                        <td id=\"T_5e4ca712_d589_11ea_90fa_0242ac1c0002row0_col1\" class=\"data row0 col1\" >123</td>\n",
              "            </tr>\n",
              "            <tr>\n",
              "                        <th id=\"T_5e4ca712_d589_11ea_90fa_0242ac1c0002level0_row1\" class=\"row_heading level0 row1\" >1</th>\n",
              "                        <td id=\"T_5e4ca712_d589_11ea_90fa_0242ac1c0002row1_col0\" class=\"data row1 col0\" >Target Type</td>\n",
              "                        <td id=\"T_5e4ca712_d589_11ea_90fa_0242ac1c0002row1_col1\" class=\"data row1 col1\" >Binary</td>\n",
              "            </tr>\n",
              "            <tr>\n",
              "                        <th id=\"T_5e4ca712_d589_11ea_90fa_0242ac1c0002level0_row2\" class=\"row_heading level0 row2\" >2</th>\n",
              "                        <td id=\"T_5e4ca712_d589_11ea_90fa_0242ac1c0002row2_col0\" class=\"data row2 col0\" >Label Encoded</td>\n",
              "                        <td id=\"T_5e4ca712_d589_11ea_90fa_0242ac1c0002row2_col1\" class=\"data row2 col1\" >None</td>\n",
              "            </tr>\n",
              "            <tr>\n",
              "                        <th id=\"T_5e4ca712_d589_11ea_90fa_0242ac1c0002level0_row3\" class=\"row_heading level0 row3\" >3</th>\n",
              "                        <td id=\"T_5e4ca712_d589_11ea_90fa_0242ac1c0002row3_col0\" class=\"data row3 col0\" >Original Data</td>\n",
              "                        <td id=\"T_5e4ca712_d589_11ea_90fa_0242ac1c0002row3_col1\" class=\"data row3 col1\" >(70000, 12)</td>\n",
              "            </tr>\n",
              "            <tr>\n",
              "                        <th id=\"T_5e4ca712_d589_11ea_90fa_0242ac1c0002level0_row4\" class=\"row_heading level0 row4\" >4</th>\n",
              "                        <td id=\"T_5e4ca712_d589_11ea_90fa_0242ac1c0002row4_col0\" class=\"data row4 col0\" >Missing Values </td>\n",
              "                        <td id=\"T_5e4ca712_d589_11ea_90fa_0242ac1c0002row4_col1\" class=\"data row4 col1\" >False</td>\n",
              "            </tr>\n",
              "            <tr>\n",
              "                        <th id=\"T_5e4ca712_d589_11ea_90fa_0242ac1c0002level0_row5\" class=\"row_heading level0 row5\" >5</th>\n",
              "                        <td id=\"T_5e4ca712_d589_11ea_90fa_0242ac1c0002row5_col0\" class=\"data row5 col0\" >Numeric Features </td>\n",
              "                        <td id=\"T_5e4ca712_d589_11ea_90fa_0242ac1c0002row5_col1\" class=\"data row5 col1\" >5</td>\n",
              "            </tr>\n",
              "            <tr>\n",
              "                        <th id=\"T_5e4ca712_d589_11ea_90fa_0242ac1c0002level0_row6\" class=\"row_heading level0 row6\" >6</th>\n",
              "                        <td id=\"T_5e4ca712_d589_11ea_90fa_0242ac1c0002row6_col0\" class=\"data row6 col0\" >Categorical Features </td>\n",
              "                        <td id=\"T_5e4ca712_d589_11ea_90fa_0242ac1c0002row6_col1\" class=\"data row6 col1\" >6</td>\n",
              "            </tr>\n",
              "            <tr>\n",
              "                        <th id=\"T_5e4ca712_d589_11ea_90fa_0242ac1c0002level0_row7\" class=\"row_heading level0 row7\" >7</th>\n",
              "                        <td id=\"T_5e4ca712_d589_11ea_90fa_0242ac1c0002row7_col0\" class=\"data row7 col0\" >Ordinal Features </td>\n",
              "                        <td id=\"T_5e4ca712_d589_11ea_90fa_0242ac1c0002row7_col1\" class=\"data row7 col1\" >False</td>\n",
              "            </tr>\n",
              "            <tr>\n",
              "                        <th id=\"T_5e4ca712_d589_11ea_90fa_0242ac1c0002level0_row8\" class=\"row_heading level0 row8\" >8</th>\n",
              "                        <td id=\"T_5e4ca712_d589_11ea_90fa_0242ac1c0002row8_col0\" class=\"data row8 col0\" >High Cardinality Features </td>\n",
              "                        <td id=\"T_5e4ca712_d589_11ea_90fa_0242ac1c0002row8_col1\" class=\"data row8 col1\" >False</td>\n",
              "            </tr>\n",
              "            <tr>\n",
              "                        <th id=\"T_5e4ca712_d589_11ea_90fa_0242ac1c0002level0_row9\" class=\"row_heading level0 row9\" >9</th>\n",
              "                        <td id=\"T_5e4ca712_d589_11ea_90fa_0242ac1c0002row9_col0\" class=\"data row9 col0\" >High Cardinality Method </td>\n",
              "                        <td id=\"T_5e4ca712_d589_11ea_90fa_0242ac1c0002row9_col1\" class=\"data row9 col1\" >None</td>\n",
              "            </tr>\n",
              "            <tr>\n",
              "                        <th id=\"T_5e4ca712_d589_11ea_90fa_0242ac1c0002level0_row10\" class=\"row_heading level0 row10\" >10</th>\n",
              "                        <td id=\"T_5e4ca712_d589_11ea_90fa_0242ac1c0002row10_col0\" class=\"data row10 col0\" >Sampled Data</td>\n",
              "                        <td id=\"T_5e4ca712_d589_11ea_90fa_0242ac1c0002row10_col1\" class=\"data row10 col1\" >(48999, 12)</td>\n",
              "            </tr>\n",
              "            <tr>\n",
              "                        <th id=\"T_5e4ca712_d589_11ea_90fa_0242ac1c0002level0_row11\" class=\"row_heading level0 row11\" >11</th>\n",
              "                        <td id=\"T_5e4ca712_d589_11ea_90fa_0242ac1c0002row11_col0\" class=\"data row11 col0\" >Transformed Train Set</td>\n",
              "                        <td id=\"T_5e4ca712_d589_11ea_90fa_0242ac1c0002row11_col1\" class=\"data row11 col1\" >(34299, 19)</td>\n",
              "            </tr>\n",
              "            <tr>\n",
              "                        <th id=\"T_5e4ca712_d589_11ea_90fa_0242ac1c0002level0_row12\" class=\"row_heading level0 row12\" >12</th>\n",
              "                        <td id=\"T_5e4ca712_d589_11ea_90fa_0242ac1c0002row12_col0\" class=\"data row12 col0\" >Transformed Test Set</td>\n",
              "                        <td id=\"T_5e4ca712_d589_11ea_90fa_0242ac1c0002row12_col1\" class=\"data row12 col1\" >(14700, 19)</td>\n",
              "            </tr>\n",
              "            <tr>\n",
              "                        <th id=\"T_5e4ca712_d589_11ea_90fa_0242ac1c0002level0_row13\" class=\"row_heading level0 row13\" >13</th>\n",
              "                        <td id=\"T_5e4ca712_d589_11ea_90fa_0242ac1c0002row13_col0\" class=\"data row13 col0\" >Numeric Imputer </td>\n",
              "                        <td id=\"T_5e4ca712_d589_11ea_90fa_0242ac1c0002row13_col1\" class=\"data row13 col1\" >mean</td>\n",
              "            </tr>\n",
              "            <tr>\n",
              "                        <th id=\"T_5e4ca712_d589_11ea_90fa_0242ac1c0002level0_row14\" class=\"row_heading level0 row14\" >14</th>\n",
              "                        <td id=\"T_5e4ca712_d589_11ea_90fa_0242ac1c0002row14_col0\" class=\"data row14 col0\" >Categorical Imputer </td>\n",
              "                        <td id=\"T_5e4ca712_d589_11ea_90fa_0242ac1c0002row14_col1\" class=\"data row14 col1\" >constant</td>\n",
              "            </tr>\n",
              "            <tr>\n",
              "                        <th id=\"T_5e4ca712_d589_11ea_90fa_0242ac1c0002level0_row15\" class=\"row_heading level0 row15\" >15</th>\n",
              "                        <td id=\"T_5e4ca712_d589_11ea_90fa_0242ac1c0002row15_col0\" class=\"data row15 col0\" >Normalize </td>\n",
              "                        <td id=\"T_5e4ca712_d589_11ea_90fa_0242ac1c0002row15_col1\" class=\"data row15 col1\" >False</td>\n",
              "            </tr>\n",
              "            <tr>\n",
              "                        <th id=\"T_5e4ca712_d589_11ea_90fa_0242ac1c0002level0_row16\" class=\"row_heading level0 row16\" >16</th>\n",
              "                        <td id=\"T_5e4ca712_d589_11ea_90fa_0242ac1c0002row16_col0\" class=\"data row16 col0\" >Normalize Method </td>\n",
              "                        <td id=\"T_5e4ca712_d589_11ea_90fa_0242ac1c0002row16_col1\" class=\"data row16 col1\" >None</td>\n",
              "            </tr>\n",
              "            <tr>\n",
              "                        <th id=\"T_5e4ca712_d589_11ea_90fa_0242ac1c0002level0_row17\" class=\"row_heading level0 row17\" >17</th>\n",
              "                        <td id=\"T_5e4ca712_d589_11ea_90fa_0242ac1c0002row17_col0\" class=\"data row17 col0\" >Transformation </td>\n",
              "                        <td id=\"T_5e4ca712_d589_11ea_90fa_0242ac1c0002row17_col1\" class=\"data row17 col1\" >False</td>\n",
              "            </tr>\n",
              "            <tr>\n",
              "                        <th id=\"T_5e4ca712_d589_11ea_90fa_0242ac1c0002level0_row18\" class=\"row_heading level0 row18\" >18</th>\n",
              "                        <td id=\"T_5e4ca712_d589_11ea_90fa_0242ac1c0002row18_col0\" class=\"data row18 col0\" >Transformation Method </td>\n",
              "                        <td id=\"T_5e4ca712_d589_11ea_90fa_0242ac1c0002row18_col1\" class=\"data row18 col1\" >None</td>\n",
              "            </tr>\n",
              "            <tr>\n",
              "                        <th id=\"T_5e4ca712_d589_11ea_90fa_0242ac1c0002level0_row19\" class=\"row_heading level0 row19\" >19</th>\n",
              "                        <td id=\"T_5e4ca712_d589_11ea_90fa_0242ac1c0002row19_col0\" class=\"data row19 col0\" >PCA </td>\n",
              "                        <td id=\"T_5e4ca712_d589_11ea_90fa_0242ac1c0002row19_col1\" class=\"data row19 col1\" >False</td>\n",
              "            </tr>\n",
              "            <tr>\n",
              "                        <th id=\"T_5e4ca712_d589_11ea_90fa_0242ac1c0002level0_row20\" class=\"row_heading level0 row20\" >20</th>\n",
              "                        <td id=\"T_5e4ca712_d589_11ea_90fa_0242ac1c0002row20_col0\" class=\"data row20 col0\" >PCA Method </td>\n",
              "                        <td id=\"T_5e4ca712_d589_11ea_90fa_0242ac1c0002row20_col1\" class=\"data row20 col1\" >None</td>\n",
              "            </tr>\n",
              "            <tr>\n",
              "                        <th id=\"T_5e4ca712_d589_11ea_90fa_0242ac1c0002level0_row21\" class=\"row_heading level0 row21\" >21</th>\n",
              "                        <td id=\"T_5e4ca712_d589_11ea_90fa_0242ac1c0002row21_col0\" class=\"data row21 col0\" >PCA Components </td>\n",
              "                        <td id=\"T_5e4ca712_d589_11ea_90fa_0242ac1c0002row21_col1\" class=\"data row21 col1\" >None</td>\n",
              "            </tr>\n",
              "            <tr>\n",
              "                        <th id=\"T_5e4ca712_d589_11ea_90fa_0242ac1c0002level0_row22\" class=\"row_heading level0 row22\" >22</th>\n",
              "                        <td id=\"T_5e4ca712_d589_11ea_90fa_0242ac1c0002row22_col0\" class=\"data row22 col0\" >Ignore Low Variance </td>\n",
              "                        <td id=\"T_5e4ca712_d589_11ea_90fa_0242ac1c0002row22_col1\" class=\"data row22 col1\" >False</td>\n",
              "            </tr>\n",
              "            <tr>\n",
              "                        <th id=\"T_5e4ca712_d589_11ea_90fa_0242ac1c0002level0_row23\" class=\"row_heading level0 row23\" >23</th>\n",
              "                        <td id=\"T_5e4ca712_d589_11ea_90fa_0242ac1c0002row23_col0\" class=\"data row23 col0\" >Combine Rare Levels </td>\n",
              "                        <td id=\"T_5e4ca712_d589_11ea_90fa_0242ac1c0002row23_col1\" class=\"data row23 col1\" >False</td>\n",
              "            </tr>\n",
              "            <tr>\n",
              "                        <th id=\"T_5e4ca712_d589_11ea_90fa_0242ac1c0002level0_row24\" class=\"row_heading level0 row24\" >24</th>\n",
              "                        <td id=\"T_5e4ca712_d589_11ea_90fa_0242ac1c0002row24_col0\" class=\"data row24 col0\" >Rare Level Threshold </td>\n",
              "                        <td id=\"T_5e4ca712_d589_11ea_90fa_0242ac1c0002row24_col1\" class=\"data row24 col1\" >None</td>\n",
              "            </tr>\n",
              "            <tr>\n",
              "                        <th id=\"T_5e4ca712_d589_11ea_90fa_0242ac1c0002level0_row25\" class=\"row_heading level0 row25\" >25</th>\n",
              "                        <td id=\"T_5e4ca712_d589_11ea_90fa_0242ac1c0002row25_col0\" class=\"data row25 col0\" >Numeric Binning </td>\n",
              "                        <td id=\"T_5e4ca712_d589_11ea_90fa_0242ac1c0002row25_col1\" class=\"data row25 col1\" >False</td>\n",
              "            </tr>\n",
              "            <tr>\n",
              "                        <th id=\"T_5e4ca712_d589_11ea_90fa_0242ac1c0002level0_row26\" class=\"row_heading level0 row26\" >26</th>\n",
              "                        <td id=\"T_5e4ca712_d589_11ea_90fa_0242ac1c0002row26_col0\" class=\"data row26 col0\" >Remove Outliers </td>\n",
              "                        <td id=\"T_5e4ca712_d589_11ea_90fa_0242ac1c0002row26_col1\" class=\"data row26 col1\" >False</td>\n",
              "            </tr>\n",
              "            <tr>\n",
              "                        <th id=\"T_5e4ca712_d589_11ea_90fa_0242ac1c0002level0_row27\" class=\"row_heading level0 row27\" >27</th>\n",
              "                        <td id=\"T_5e4ca712_d589_11ea_90fa_0242ac1c0002row27_col0\" class=\"data row27 col0\" >Outliers Threshold </td>\n",
              "                        <td id=\"T_5e4ca712_d589_11ea_90fa_0242ac1c0002row27_col1\" class=\"data row27 col1\" >None</td>\n",
              "            </tr>\n",
              "            <tr>\n",
              "                        <th id=\"T_5e4ca712_d589_11ea_90fa_0242ac1c0002level0_row28\" class=\"row_heading level0 row28\" >28</th>\n",
              "                        <td id=\"T_5e4ca712_d589_11ea_90fa_0242ac1c0002row28_col0\" class=\"data row28 col0\" >Remove Multicollinearity </td>\n",
              "                        <td id=\"T_5e4ca712_d589_11ea_90fa_0242ac1c0002row28_col1\" class=\"data row28 col1\" >False</td>\n",
              "            </tr>\n",
              "            <tr>\n",
              "                        <th id=\"T_5e4ca712_d589_11ea_90fa_0242ac1c0002level0_row29\" class=\"row_heading level0 row29\" >29</th>\n",
              "                        <td id=\"T_5e4ca712_d589_11ea_90fa_0242ac1c0002row29_col0\" class=\"data row29 col0\" >Multicollinearity Threshold </td>\n",
              "                        <td id=\"T_5e4ca712_d589_11ea_90fa_0242ac1c0002row29_col1\" class=\"data row29 col1\" >None</td>\n",
              "            </tr>\n",
              "            <tr>\n",
              "                        <th id=\"T_5e4ca712_d589_11ea_90fa_0242ac1c0002level0_row30\" class=\"row_heading level0 row30\" >30</th>\n",
              "                        <td id=\"T_5e4ca712_d589_11ea_90fa_0242ac1c0002row30_col0\" class=\"data row30 col0\" >Clustering </td>\n",
              "                        <td id=\"T_5e4ca712_d589_11ea_90fa_0242ac1c0002row30_col1\" class=\"data row30 col1\" >False</td>\n",
              "            </tr>\n",
              "            <tr>\n",
              "                        <th id=\"T_5e4ca712_d589_11ea_90fa_0242ac1c0002level0_row31\" class=\"row_heading level0 row31\" >31</th>\n",
              "                        <td id=\"T_5e4ca712_d589_11ea_90fa_0242ac1c0002row31_col0\" class=\"data row31 col0\" >Clustering Iteration </td>\n",
              "                        <td id=\"T_5e4ca712_d589_11ea_90fa_0242ac1c0002row31_col1\" class=\"data row31 col1\" >None</td>\n",
              "            </tr>\n",
              "            <tr>\n",
              "                        <th id=\"T_5e4ca712_d589_11ea_90fa_0242ac1c0002level0_row32\" class=\"row_heading level0 row32\" >32</th>\n",
              "                        <td id=\"T_5e4ca712_d589_11ea_90fa_0242ac1c0002row32_col0\" class=\"data row32 col0\" >Polynomial Features </td>\n",
              "                        <td id=\"T_5e4ca712_d589_11ea_90fa_0242ac1c0002row32_col1\" class=\"data row32 col1\" >False</td>\n",
              "            </tr>\n",
              "            <tr>\n",
              "                        <th id=\"T_5e4ca712_d589_11ea_90fa_0242ac1c0002level0_row33\" class=\"row_heading level0 row33\" >33</th>\n",
              "                        <td id=\"T_5e4ca712_d589_11ea_90fa_0242ac1c0002row33_col0\" class=\"data row33 col0\" >Polynomial Degree </td>\n",
              "                        <td id=\"T_5e4ca712_d589_11ea_90fa_0242ac1c0002row33_col1\" class=\"data row33 col1\" >None</td>\n",
              "            </tr>\n",
              "            <tr>\n",
              "                        <th id=\"T_5e4ca712_d589_11ea_90fa_0242ac1c0002level0_row34\" class=\"row_heading level0 row34\" >34</th>\n",
              "                        <td id=\"T_5e4ca712_d589_11ea_90fa_0242ac1c0002row34_col0\" class=\"data row34 col0\" >Trignometry Features </td>\n",
              "                        <td id=\"T_5e4ca712_d589_11ea_90fa_0242ac1c0002row34_col1\" class=\"data row34 col1\" >False</td>\n",
              "            </tr>\n",
              "            <tr>\n",
              "                        <th id=\"T_5e4ca712_d589_11ea_90fa_0242ac1c0002level0_row35\" class=\"row_heading level0 row35\" >35</th>\n",
              "                        <td id=\"T_5e4ca712_d589_11ea_90fa_0242ac1c0002row35_col0\" class=\"data row35 col0\" >Polynomial Threshold </td>\n",
              "                        <td id=\"T_5e4ca712_d589_11ea_90fa_0242ac1c0002row35_col1\" class=\"data row35 col1\" >None</td>\n",
              "            </tr>\n",
              "            <tr>\n",
              "                        <th id=\"T_5e4ca712_d589_11ea_90fa_0242ac1c0002level0_row36\" class=\"row_heading level0 row36\" >36</th>\n",
              "                        <td id=\"T_5e4ca712_d589_11ea_90fa_0242ac1c0002row36_col0\" class=\"data row36 col0\" >Group Features </td>\n",
              "                        <td id=\"T_5e4ca712_d589_11ea_90fa_0242ac1c0002row36_col1\" class=\"data row36 col1\" >False</td>\n",
              "            </tr>\n",
              "            <tr>\n",
              "                        <th id=\"T_5e4ca712_d589_11ea_90fa_0242ac1c0002level0_row37\" class=\"row_heading level0 row37\" >37</th>\n",
              "                        <td id=\"T_5e4ca712_d589_11ea_90fa_0242ac1c0002row37_col0\" class=\"data row37 col0\" >Feature Selection </td>\n",
              "                        <td id=\"T_5e4ca712_d589_11ea_90fa_0242ac1c0002row37_col1\" class=\"data row37 col1\" >False</td>\n",
              "            </tr>\n",
              "            <tr>\n",
              "                        <th id=\"T_5e4ca712_d589_11ea_90fa_0242ac1c0002level0_row38\" class=\"row_heading level0 row38\" >38</th>\n",
              "                        <td id=\"T_5e4ca712_d589_11ea_90fa_0242ac1c0002row38_col0\" class=\"data row38 col0\" >Features Selection Threshold </td>\n",
              "                        <td id=\"T_5e4ca712_d589_11ea_90fa_0242ac1c0002row38_col1\" class=\"data row38 col1\" >None</td>\n",
              "            </tr>\n",
              "            <tr>\n",
              "                        <th id=\"T_5e4ca712_d589_11ea_90fa_0242ac1c0002level0_row39\" class=\"row_heading level0 row39\" >39</th>\n",
              "                        <td id=\"T_5e4ca712_d589_11ea_90fa_0242ac1c0002row39_col0\" class=\"data row39 col0\" >Feature Interaction </td>\n",
              "                        <td id=\"T_5e4ca712_d589_11ea_90fa_0242ac1c0002row39_col1\" class=\"data row39 col1\" >False</td>\n",
              "            </tr>\n",
              "            <tr>\n",
              "                        <th id=\"T_5e4ca712_d589_11ea_90fa_0242ac1c0002level0_row40\" class=\"row_heading level0 row40\" >40</th>\n",
              "                        <td id=\"T_5e4ca712_d589_11ea_90fa_0242ac1c0002row40_col0\" class=\"data row40 col0\" >Feature Ratio </td>\n",
              "                        <td id=\"T_5e4ca712_d589_11ea_90fa_0242ac1c0002row40_col1\" class=\"data row40 col1\" >False</td>\n",
              "            </tr>\n",
              "            <tr>\n",
              "                        <th id=\"T_5e4ca712_d589_11ea_90fa_0242ac1c0002level0_row41\" class=\"row_heading level0 row41\" >41</th>\n",
              "                        <td id=\"T_5e4ca712_d589_11ea_90fa_0242ac1c0002row41_col0\" class=\"data row41 col0\" >Interaction Threshold </td>\n",
              "                        <td id=\"T_5e4ca712_d589_11ea_90fa_0242ac1c0002row41_col1\" class=\"data row41 col1\" >None</td>\n",
              "            </tr>\n",
              "            <tr>\n",
              "                        <th id=\"T_5e4ca712_d589_11ea_90fa_0242ac1c0002level0_row42\" class=\"row_heading level0 row42\" >42</th>\n",
              "                        <td id=\"T_5e4ca712_d589_11ea_90fa_0242ac1c0002row42_col0\" class=\"data row42 col0\" >Fix Imbalance</td>\n",
              "                        <td id=\"T_5e4ca712_d589_11ea_90fa_0242ac1c0002row42_col1\" class=\"data row42 col1\" >False</td>\n",
              "            </tr>\n",
              "            <tr>\n",
              "                        <th id=\"T_5e4ca712_d589_11ea_90fa_0242ac1c0002level0_row43\" class=\"row_heading level0 row43\" >43</th>\n",
              "                        <td id=\"T_5e4ca712_d589_11ea_90fa_0242ac1c0002row43_col0\" class=\"data row43 col0\" >Fix Imbalance Method</td>\n",
              "                        <td id=\"T_5e4ca712_d589_11ea_90fa_0242ac1c0002row43_col1\" class=\"data row43 col1\" >SMOTE</td>\n",
              "            </tr>\n",
              "    </tbody></table>"
            ],
            "text/plain": [
              "<pandas.io.formats.style.Styler at 0x7f240f4fb240>"
            ]
          },
          "metadata": {
            "tags": []
          }
        }
      ]
    },
    {
      "cell_type": "code",
      "metadata": {
        "id": "BtnhYvAxZWR3",
        "colab_type": "code",
        "colab": {
          "base_uri": "https://localhost:8080/",
          "height": 338,
          "referenced_widgets": [
            "aecedc9bdad043bcb68cd765079003be",
            "16b5b7e8c11c42ff83dc1b8ba5daaa7d",
            "53a2aa464ea44c36b26c74bc7e6c8db8"
          ]
        },
        "outputId": "2fbd216c-713a-4019-b728-8720180562dc"
      },
      "source": [
        "## Finding the best model with 70% data from dataset as test data\n",
        "best_model = compare_models()"
      ],
      "execution_count": 174,
      "outputs": [
        {
          "output_type": "display_data",
          "data": {
            "text/html": [
              "<style  type=\"text/css\" >\n",
              "    #T_3a1659b4_d58a_11ea_90fa_0242ac1c0002 th {\n",
              "          text-align: left;\n",
              "    }    #T_3a1659b4_d58a_11ea_90fa_0242ac1c0002row0_col0 {\n",
              "            text-align:  left;\n",
              "        }    #T_3a1659b4_d58a_11ea_90fa_0242ac1c0002row0_col1 {\n",
              "            background-color:  yellow;\n",
              "            text-align:  left;\n",
              "        }    #T_3a1659b4_d58a_11ea_90fa_0242ac1c0002row0_col2 {\n",
              "            : ;\n",
              "            text-align:  left;\n",
              "        }    #T_3a1659b4_d58a_11ea_90fa_0242ac1c0002row0_col3 {\n",
              "            : ;\n",
              "            text-align:  left;\n",
              "        }    #T_3a1659b4_d58a_11ea_90fa_0242ac1c0002row0_col4 {\n",
              "            : ;\n",
              "            text-align:  left;\n",
              "        }    #T_3a1659b4_d58a_11ea_90fa_0242ac1c0002row0_col5 {\n",
              "            background-color:  yellow;\n",
              "            text-align:  left;\n",
              "        }    #T_3a1659b4_d58a_11ea_90fa_0242ac1c0002row0_col6 {\n",
              "            background-color:  yellow;\n",
              "            text-align:  left;\n",
              "        }    #T_3a1659b4_d58a_11ea_90fa_0242ac1c0002row0_col7 {\n",
              "            background-color:  yellow;\n",
              "            text-align:  left;\n",
              "        }    #T_3a1659b4_d58a_11ea_90fa_0242ac1c0002row0_col8 {\n",
              "            background-color:  lightgrey;\n",
              "            text-align:  left;\n",
              "        }    #T_3a1659b4_d58a_11ea_90fa_0242ac1c0002row1_col0 {\n",
              "            text-align:  left;\n",
              "        }    #T_3a1659b4_d58a_11ea_90fa_0242ac1c0002row1_col1 {\n",
              "            : ;\n",
              "            text-align:  left;\n",
              "        }    #T_3a1659b4_d58a_11ea_90fa_0242ac1c0002row1_col2 {\n",
              "            : ;\n",
              "            text-align:  left;\n",
              "        }    #T_3a1659b4_d58a_11ea_90fa_0242ac1c0002row1_col3 {\n",
              "            background-color:  yellow;\n",
              "            text-align:  left;\n",
              "        }    #T_3a1659b4_d58a_11ea_90fa_0242ac1c0002row1_col4 {\n",
              "            : ;\n",
              "            text-align:  left;\n",
              "        }    #T_3a1659b4_d58a_11ea_90fa_0242ac1c0002row1_col5 {\n",
              "            background-color:  yellow;\n",
              "            text-align:  left;\n",
              "        }    #T_3a1659b4_d58a_11ea_90fa_0242ac1c0002row1_col6 {\n",
              "            : ;\n",
              "            text-align:  left;\n",
              "        }    #T_3a1659b4_d58a_11ea_90fa_0242ac1c0002row1_col7 {\n",
              "            : ;\n",
              "            text-align:  left;\n",
              "        }    #T_3a1659b4_d58a_11ea_90fa_0242ac1c0002row1_col8 {\n",
              "            background-color:  lightgrey;\n",
              "            text-align:  left;\n",
              "        }    #T_3a1659b4_d58a_11ea_90fa_0242ac1c0002row2_col0 {\n",
              "            text-align:  left;\n",
              "        }    #T_3a1659b4_d58a_11ea_90fa_0242ac1c0002row2_col1 {\n",
              "            : ;\n",
              "            text-align:  left;\n",
              "        }    #T_3a1659b4_d58a_11ea_90fa_0242ac1c0002row2_col2 {\n",
              "            background-color:  yellow;\n",
              "            text-align:  left;\n",
              "        }    #T_3a1659b4_d58a_11ea_90fa_0242ac1c0002row2_col3 {\n",
              "            : ;\n",
              "            text-align:  left;\n",
              "        }    #T_3a1659b4_d58a_11ea_90fa_0242ac1c0002row2_col4 {\n",
              "            : ;\n",
              "            text-align:  left;\n",
              "        }    #T_3a1659b4_d58a_11ea_90fa_0242ac1c0002row2_col5 {\n",
              "            : ;\n",
              "            text-align:  left;\n",
              "        }    #T_3a1659b4_d58a_11ea_90fa_0242ac1c0002row2_col6 {\n",
              "            : ;\n",
              "            text-align:  left;\n",
              "        }    #T_3a1659b4_d58a_11ea_90fa_0242ac1c0002row2_col7 {\n",
              "            : ;\n",
              "            text-align:  left;\n",
              "        }    #T_3a1659b4_d58a_11ea_90fa_0242ac1c0002row2_col8 {\n",
              "            background-color:  lightgrey;\n",
              "            text-align:  left;\n",
              "        }    #T_3a1659b4_d58a_11ea_90fa_0242ac1c0002row3_col0 {\n",
              "            text-align:  left;\n",
              "        }    #T_3a1659b4_d58a_11ea_90fa_0242ac1c0002row3_col1 {\n",
              "            : ;\n",
              "            text-align:  left;\n",
              "        }    #T_3a1659b4_d58a_11ea_90fa_0242ac1c0002row3_col2 {\n",
              "            : ;\n",
              "            text-align:  left;\n",
              "        }    #T_3a1659b4_d58a_11ea_90fa_0242ac1c0002row3_col3 {\n",
              "            : ;\n",
              "            text-align:  left;\n",
              "        }    #T_3a1659b4_d58a_11ea_90fa_0242ac1c0002row3_col4 {\n",
              "            : ;\n",
              "            text-align:  left;\n",
              "        }    #T_3a1659b4_d58a_11ea_90fa_0242ac1c0002row3_col5 {\n",
              "            : ;\n",
              "            text-align:  left;\n",
              "        }    #T_3a1659b4_d58a_11ea_90fa_0242ac1c0002row3_col6 {\n",
              "            : ;\n",
              "            text-align:  left;\n",
              "        }    #T_3a1659b4_d58a_11ea_90fa_0242ac1c0002row3_col7 {\n",
              "            : ;\n",
              "            text-align:  left;\n",
              "        }    #T_3a1659b4_d58a_11ea_90fa_0242ac1c0002row3_col8 {\n",
              "            background-color:  lightgrey;\n",
              "            text-align:  left;\n",
              "        }    #T_3a1659b4_d58a_11ea_90fa_0242ac1c0002row4_col0 {\n",
              "            text-align:  left;\n",
              "        }    #T_3a1659b4_d58a_11ea_90fa_0242ac1c0002row4_col1 {\n",
              "            : ;\n",
              "            text-align:  left;\n",
              "        }    #T_3a1659b4_d58a_11ea_90fa_0242ac1c0002row4_col2 {\n",
              "            : ;\n",
              "            text-align:  left;\n",
              "        }    #T_3a1659b4_d58a_11ea_90fa_0242ac1c0002row4_col3 {\n",
              "            : ;\n",
              "            text-align:  left;\n",
              "        }    #T_3a1659b4_d58a_11ea_90fa_0242ac1c0002row4_col4 {\n",
              "            background-color:  yellow;\n",
              "            text-align:  left;\n",
              "        }    #T_3a1659b4_d58a_11ea_90fa_0242ac1c0002row4_col5 {\n",
              "            : ;\n",
              "            text-align:  left;\n",
              "        }    #T_3a1659b4_d58a_11ea_90fa_0242ac1c0002row4_col6 {\n",
              "            : ;\n",
              "            text-align:  left;\n",
              "        }    #T_3a1659b4_d58a_11ea_90fa_0242ac1c0002row4_col7 {\n",
              "            : ;\n",
              "            text-align:  left;\n",
              "        }    #T_3a1659b4_d58a_11ea_90fa_0242ac1c0002row4_col8 {\n",
              "            background-color:  lightgrey;\n",
              "            text-align:  left;\n",
              "        }    #T_3a1659b4_d58a_11ea_90fa_0242ac1c0002row5_col0 {\n",
              "            text-align:  left;\n",
              "        }    #T_3a1659b4_d58a_11ea_90fa_0242ac1c0002row5_col1 {\n",
              "            : ;\n",
              "            text-align:  left;\n",
              "        }    #T_3a1659b4_d58a_11ea_90fa_0242ac1c0002row5_col2 {\n",
              "            : ;\n",
              "            text-align:  left;\n",
              "        }    #T_3a1659b4_d58a_11ea_90fa_0242ac1c0002row5_col3 {\n",
              "            : ;\n",
              "            text-align:  left;\n",
              "        }    #T_3a1659b4_d58a_11ea_90fa_0242ac1c0002row5_col4 {\n",
              "            : ;\n",
              "            text-align:  left;\n",
              "        }    #T_3a1659b4_d58a_11ea_90fa_0242ac1c0002row5_col5 {\n",
              "            : ;\n",
              "            text-align:  left;\n",
              "        }    #T_3a1659b4_d58a_11ea_90fa_0242ac1c0002row5_col6 {\n",
              "            : ;\n",
              "            text-align:  left;\n",
              "        }    #T_3a1659b4_d58a_11ea_90fa_0242ac1c0002row5_col7 {\n",
              "            : ;\n",
              "            text-align:  left;\n",
              "        }    #T_3a1659b4_d58a_11ea_90fa_0242ac1c0002row5_col8 {\n",
              "            background-color:  lightgrey;\n",
              "            text-align:  left;\n",
              "        }    #T_3a1659b4_d58a_11ea_90fa_0242ac1c0002row6_col0 {\n",
              "            text-align:  left;\n",
              "        }    #T_3a1659b4_d58a_11ea_90fa_0242ac1c0002row6_col1 {\n",
              "            : ;\n",
              "            text-align:  left;\n",
              "        }    #T_3a1659b4_d58a_11ea_90fa_0242ac1c0002row6_col2 {\n",
              "            : ;\n",
              "            text-align:  left;\n",
              "        }    #T_3a1659b4_d58a_11ea_90fa_0242ac1c0002row6_col3 {\n",
              "            : ;\n",
              "            text-align:  left;\n",
              "        }    #T_3a1659b4_d58a_11ea_90fa_0242ac1c0002row6_col4 {\n",
              "            : ;\n",
              "            text-align:  left;\n",
              "        }    #T_3a1659b4_d58a_11ea_90fa_0242ac1c0002row6_col5 {\n",
              "            : ;\n",
              "            text-align:  left;\n",
              "        }    #T_3a1659b4_d58a_11ea_90fa_0242ac1c0002row6_col6 {\n",
              "            : ;\n",
              "            text-align:  left;\n",
              "        }    #T_3a1659b4_d58a_11ea_90fa_0242ac1c0002row6_col7 {\n",
              "            : ;\n",
              "            text-align:  left;\n",
              "        }    #T_3a1659b4_d58a_11ea_90fa_0242ac1c0002row6_col8 {\n",
              "            background-color:  lightgrey;\n",
              "            text-align:  left;\n",
              "        }    #T_3a1659b4_d58a_11ea_90fa_0242ac1c0002row7_col0 {\n",
              "            text-align:  left;\n",
              "        }    #T_3a1659b4_d58a_11ea_90fa_0242ac1c0002row7_col1 {\n",
              "            : ;\n",
              "            text-align:  left;\n",
              "        }    #T_3a1659b4_d58a_11ea_90fa_0242ac1c0002row7_col2 {\n",
              "            : ;\n",
              "            text-align:  left;\n",
              "        }    #T_3a1659b4_d58a_11ea_90fa_0242ac1c0002row7_col3 {\n",
              "            : ;\n",
              "            text-align:  left;\n",
              "        }    #T_3a1659b4_d58a_11ea_90fa_0242ac1c0002row7_col4 {\n",
              "            : ;\n",
              "            text-align:  left;\n",
              "        }    #T_3a1659b4_d58a_11ea_90fa_0242ac1c0002row7_col5 {\n",
              "            : ;\n",
              "            text-align:  left;\n",
              "        }    #T_3a1659b4_d58a_11ea_90fa_0242ac1c0002row7_col6 {\n",
              "            : ;\n",
              "            text-align:  left;\n",
              "        }    #T_3a1659b4_d58a_11ea_90fa_0242ac1c0002row7_col7 {\n",
              "            : ;\n",
              "            text-align:  left;\n",
              "        }    #T_3a1659b4_d58a_11ea_90fa_0242ac1c0002row7_col8 {\n",
              "            background-color:  lightgrey;\n",
              "            text-align:  left;\n",
              "        }    #T_3a1659b4_d58a_11ea_90fa_0242ac1c0002row8_col0 {\n",
              "            text-align:  left;\n",
              "        }    #T_3a1659b4_d58a_11ea_90fa_0242ac1c0002row8_col1 {\n",
              "            : ;\n",
              "            text-align:  left;\n",
              "        }    #T_3a1659b4_d58a_11ea_90fa_0242ac1c0002row8_col2 {\n",
              "            : ;\n",
              "            text-align:  left;\n",
              "        }    #T_3a1659b4_d58a_11ea_90fa_0242ac1c0002row8_col3 {\n",
              "            : ;\n",
              "            text-align:  left;\n",
              "        }    #T_3a1659b4_d58a_11ea_90fa_0242ac1c0002row8_col4 {\n",
              "            : ;\n",
              "            text-align:  left;\n",
              "        }    #T_3a1659b4_d58a_11ea_90fa_0242ac1c0002row8_col5 {\n",
              "            : ;\n",
              "            text-align:  left;\n",
              "        }    #T_3a1659b4_d58a_11ea_90fa_0242ac1c0002row8_col6 {\n",
              "            : ;\n",
              "            text-align:  left;\n",
              "        }    #T_3a1659b4_d58a_11ea_90fa_0242ac1c0002row8_col7 {\n",
              "            : ;\n",
              "            text-align:  left;\n",
              "        }    #T_3a1659b4_d58a_11ea_90fa_0242ac1c0002row8_col8 {\n",
              "            background-color:  lightgrey;\n",
              "            text-align:  left;\n",
              "        }    #T_3a1659b4_d58a_11ea_90fa_0242ac1c0002row9_col0 {\n",
              "            text-align:  left;\n",
              "        }    #T_3a1659b4_d58a_11ea_90fa_0242ac1c0002row9_col1 {\n",
              "            : ;\n",
              "            text-align:  left;\n",
              "        }    #T_3a1659b4_d58a_11ea_90fa_0242ac1c0002row9_col2 {\n",
              "            : ;\n",
              "            text-align:  left;\n",
              "        }    #T_3a1659b4_d58a_11ea_90fa_0242ac1c0002row9_col3 {\n",
              "            : ;\n",
              "            text-align:  left;\n",
              "        }    #T_3a1659b4_d58a_11ea_90fa_0242ac1c0002row9_col4 {\n",
              "            : ;\n",
              "            text-align:  left;\n",
              "        }    #T_3a1659b4_d58a_11ea_90fa_0242ac1c0002row9_col5 {\n",
              "            : ;\n",
              "            text-align:  left;\n",
              "        }    #T_3a1659b4_d58a_11ea_90fa_0242ac1c0002row9_col6 {\n",
              "            : ;\n",
              "            text-align:  left;\n",
              "        }    #T_3a1659b4_d58a_11ea_90fa_0242ac1c0002row9_col7 {\n",
              "            : ;\n",
              "            text-align:  left;\n",
              "        }    #T_3a1659b4_d58a_11ea_90fa_0242ac1c0002row9_col8 {\n",
              "            background-color:  lightgrey;\n",
              "            text-align:  left;\n",
              "        }    #T_3a1659b4_d58a_11ea_90fa_0242ac1c0002row10_col0 {\n",
              "            text-align:  left;\n",
              "        }    #T_3a1659b4_d58a_11ea_90fa_0242ac1c0002row10_col1 {\n",
              "            : ;\n",
              "            text-align:  left;\n",
              "        }    #T_3a1659b4_d58a_11ea_90fa_0242ac1c0002row10_col2 {\n",
              "            : ;\n",
              "            text-align:  left;\n",
              "        }    #T_3a1659b4_d58a_11ea_90fa_0242ac1c0002row10_col3 {\n",
              "            : ;\n",
              "            text-align:  left;\n",
              "        }    #T_3a1659b4_d58a_11ea_90fa_0242ac1c0002row10_col4 {\n",
              "            : ;\n",
              "            text-align:  left;\n",
              "        }    #T_3a1659b4_d58a_11ea_90fa_0242ac1c0002row10_col5 {\n",
              "            : ;\n",
              "            text-align:  left;\n",
              "        }    #T_3a1659b4_d58a_11ea_90fa_0242ac1c0002row10_col6 {\n",
              "            : ;\n",
              "            text-align:  left;\n",
              "        }    #T_3a1659b4_d58a_11ea_90fa_0242ac1c0002row10_col7 {\n",
              "            : ;\n",
              "            text-align:  left;\n",
              "        }    #T_3a1659b4_d58a_11ea_90fa_0242ac1c0002row10_col8 {\n",
              "            background-color:  lightgrey;\n",
              "            text-align:  left;\n",
              "        }    #T_3a1659b4_d58a_11ea_90fa_0242ac1c0002row11_col0 {\n",
              "            text-align:  left;\n",
              "        }    #T_3a1659b4_d58a_11ea_90fa_0242ac1c0002row11_col1 {\n",
              "            : ;\n",
              "            text-align:  left;\n",
              "        }    #T_3a1659b4_d58a_11ea_90fa_0242ac1c0002row11_col2 {\n",
              "            : ;\n",
              "            text-align:  left;\n",
              "        }    #T_3a1659b4_d58a_11ea_90fa_0242ac1c0002row11_col3 {\n",
              "            : ;\n",
              "            text-align:  left;\n",
              "        }    #T_3a1659b4_d58a_11ea_90fa_0242ac1c0002row11_col4 {\n",
              "            : ;\n",
              "            text-align:  left;\n",
              "        }    #T_3a1659b4_d58a_11ea_90fa_0242ac1c0002row11_col5 {\n",
              "            : ;\n",
              "            text-align:  left;\n",
              "        }    #T_3a1659b4_d58a_11ea_90fa_0242ac1c0002row11_col6 {\n",
              "            : ;\n",
              "            text-align:  left;\n",
              "        }    #T_3a1659b4_d58a_11ea_90fa_0242ac1c0002row11_col7 {\n",
              "            : ;\n",
              "            text-align:  left;\n",
              "        }    #T_3a1659b4_d58a_11ea_90fa_0242ac1c0002row11_col8 {\n",
              "            background-color:  lightgrey;\n",
              "            text-align:  left;\n",
              "        }    #T_3a1659b4_d58a_11ea_90fa_0242ac1c0002row12_col0 {\n",
              "            text-align:  left;\n",
              "        }    #T_3a1659b4_d58a_11ea_90fa_0242ac1c0002row12_col1 {\n",
              "            : ;\n",
              "            text-align:  left;\n",
              "        }    #T_3a1659b4_d58a_11ea_90fa_0242ac1c0002row12_col2 {\n",
              "            : ;\n",
              "            text-align:  left;\n",
              "        }    #T_3a1659b4_d58a_11ea_90fa_0242ac1c0002row12_col3 {\n",
              "            : ;\n",
              "            text-align:  left;\n",
              "        }    #T_3a1659b4_d58a_11ea_90fa_0242ac1c0002row12_col4 {\n",
              "            : ;\n",
              "            text-align:  left;\n",
              "        }    #T_3a1659b4_d58a_11ea_90fa_0242ac1c0002row12_col5 {\n",
              "            : ;\n",
              "            text-align:  left;\n",
              "        }    #T_3a1659b4_d58a_11ea_90fa_0242ac1c0002row12_col6 {\n",
              "            : ;\n",
              "            text-align:  left;\n",
              "        }    #T_3a1659b4_d58a_11ea_90fa_0242ac1c0002row12_col7 {\n",
              "            : ;\n",
              "            text-align:  left;\n",
              "        }    #T_3a1659b4_d58a_11ea_90fa_0242ac1c0002row12_col8 {\n",
              "            background-color:  lightgrey;\n",
              "            text-align:  left;\n",
              "        }    #T_3a1659b4_d58a_11ea_90fa_0242ac1c0002row13_col0 {\n",
              "            text-align:  left;\n",
              "        }    #T_3a1659b4_d58a_11ea_90fa_0242ac1c0002row13_col1 {\n",
              "            : ;\n",
              "            text-align:  left;\n",
              "        }    #T_3a1659b4_d58a_11ea_90fa_0242ac1c0002row13_col2 {\n",
              "            : ;\n",
              "            text-align:  left;\n",
              "        }    #T_3a1659b4_d58a_11ea_90fa_0242ac1c0002row13_col3 {\n",
              "            : ;\n",
              "            text-align:  left;\n",
              "        }    #T_3a1659b4_d58a_11ea_90fa_0242ac1c0002row13_col4 {\n",
              "            : ;\n",
              "            text-align:  left;\n",
              "        }    #T_3a1659b4_d58a_11ea_90fa_0242ac1c0002row13_col5 {\n",
              "            : ;\n",
              "            text-align:  left;\n",
              "        }    #T_3a1659b4_d58a_11ea_90fa_0242ac1c0002row13_col6 {\n",
              "            : ;\n",
              "            text-align:  left;\n",
              "        }    #T_3a1659b4_d58a_11ea_90fa_0242ac1c0002row13_col7 {\n",
              "            : ;\n",
              "            text-align:  left;\n",
              "        }    #T_3a1659b4_d58a_11ea_90fa_0242ac1c0002row13_col8 {\n",
              "            background-color:  lightgrey;\n",
              "            text-align:  left;\n",
              "        }    #T_3a1659b4_d58a_11ea_90fa_0242ac1c0002row14_col0 {\n",
              "            text-align:  left;\n",
              "        }    #T_3a1659b4_d58a_11ea_90fa_0242ac1c0002row14_col1 {\n",
              "            : ;\n",
              "            text-align:  left;\n",
              "        }    #T_3a1659b4_d58a_11ea_90fa_0242ac1c0002row14_col2 {\n",
              "            : ;\n",
              "            text-align:  left;\n",
              "        }    #T_3a1659b4_d58a_11ea_90fa_0242ac1c0002row14_col3 {\n",
              "            : ;\n",
              "            text-align:  left;\n",
              "        }    #T_3a1659b4_d58a_11ea_90fa_0242ac1c0002row14_col4 {\n",
              "            : ;\n",
              "            text-align:  left;\n",
              "        }    #T_3a1659b4_d58a_11ea_90fa_0242ac1c0002row14_col5 {\n",
              "            : ;\n",
              "            text-align:  left;\n",
              "        }    #T_3a1659b4_d58a_11ea_90fa_0242ac1c0002row14_col6 {\n",
              "            : ;\n",
              "            text-align:  left;\n",
              "        }    #T_3a1659b4_d58a_11ea_90fa_0242ac1c0002row14_col7 {\n",
              "            : ;\n",
              "            text-align:  left;\n",
              "        }    #T_3a1659b4_d58a_11ea_90fa_0242ac1c0002row14_col8 {\n",
              "            background-color:  lightgrey;\n",
              "            text-align:  left;\n",
              "        }</style><table id=\"T_3a1659b4_d58a_11ea_90fa_0242ac1c0002\" ><thead>    <tr>        <th class=\"blank level0\" ></th>        <th class=\"col_heading level0 col0\" >Model</th>        <th class=\"col_heading level0 col1\" >Accuracy</th>        <th class=\"col_heading level0 col2\" >AUC</th>        <th class=\"col_heading level0 col3\" >Recall</th>        <th class=\"col_heading level0 col4\" >Prec.</th>        <th class=\"col_heading level0 col5\" >F1</th>        <th class=\"col_heading level0 col6\" >Kappa</th>        <th class=\"col_heading level0 col7\" >MCC</th>        <th class=\"col_heading level0 col8\" >TT (Sec)</th>    </tr></thead><tbody>\n",
              "                <tr>\n",
              "                        <th id=\"T_3a1659b4_d58a_11ea_90fa_0242ac1c0002level0_row0\" class=\"row_heading level0 row0\" >0</th>\n",
              "                        <td id=\"T_3a1659b4_d58a_11ea_90fa_0242ac1c0002row0_col0\" class=\"data row0 col0\" >Light Gradient Boosting Machine</td>\n",
              "                        <td id=\"T_3a1659b4_d58a_11ea_90fa_0242ac1c0002row0_col1\" class=\"data row0 col1\" >0.7375</td>\n",
              "                        <td id=\"T_3a1659b4_d58a_11ea_90fa_0242ac1c0002row0_col2\" class=\"data row0 col2\" >0.8006</td>\n",
              "                        <td id=\"T_3a1659b4_d58a_11ea_90fa_0242ac1c0002row0_col3\" class=\"data row0 col3\" >0.7022</td>\n",
              "                        <td id=\"T_3a1659b4_d58a_11ea_90fa_0242ac1c0002row0_col4\" class=\"data row0 col4\" >0.7554</td>\n",
              "                        <td id=\"T_3a1659b4_d58a_11ea_90fa_0242ac1c0002row0_col5\" class=\"data row0 col5\" >0.7278</td>\n",
              "                        <td id=\"T_3a1659b4_d58a_11ea_90fa_0242ac1c0002row0_col6\" class=\"data row0 col6\" >0.4751</td>\n",
              "                        <td id=\"T_3a1659b4_d58a_11ea_90fa_0242ac1c0002row0_col7\" class=\"data row0 col7\" >0.4763</td>\n",
              "                        <td id=\"T_3a1659b4_d58a_11ea_90fa_0242ac1c0002row0_col8\" class=\"data row0 col8\" >0.4025</td>\n",
              "            </tr>\n",
              "            <tr>\n",
              "                        <th id=\"T_3a1659b4_d58a_11ea_90fa_0242ac1c0002level0_row1\" class=\"row_heading level0 row1\" >1</th>\n",
              "                        <td id=\"T_3a1659b4_d58a_11ea_90fa_0242ac1c0002row1_col0\" class=\"data row1 col0\" >Gradient Boosting Classifier</td>\n",
              "                        <td id=\"T_3a1659b4_d58a_11ea_90fa_0242ac1c0002row1_col1\" class=\"data row1 col1\" >0.7366</td>\n",
              "                        <td id=\"T_3a1659b4_d58a_11ea_90fa_0242ac1c0002row1_col2\" class=\"data row1 col2\" >0.8013</td>\n",
              "                        <td id=\"T_3a1659b4_d58a_11ea_90fa_0242ac1c0002row1_col3\" class=\"data row1 col3\" >0.7047</td>\n",
              "                        <td id=\"T_3a1659b4_d58a_11ea_90fa_0242ac1c0002row1_col4\" class=\"data row1 col4\" >0.7525</td>\n",
              "                        <td id=\"T_3a1659b4_d58a_11ea_90fa_0242ac1c0002row1_col5\" class=\"data row1 col5\" >0.7278</td>\n",
              "                        <td id=\"T_3a1659b4_d58a_11ea_90fa_0242ac1c0002row1_col6\" class=\"data row1 col6\" >0.4732</td>\n",
              "                        <td id=\"T_3a1659b4_d58a_11ea_90fa_0242ac1c0002row1_col7\" class=\"data row1 col7\" >0.4742</td>\n",
              "                        <td id=\"T_3a1659b4_d58a_11ea_90fa_0242ac1c0002row1_col8\" class=\"data row1 col8\" >3.9344</td>\n",
              "            </tr>\n",
              "            <tr>\n",
              "                        <th id=\"T_3a1659b4_d58a_11ea_90fa_0242ac1c0002level0_row2\" class=\"row_heading level0 row2\" >2</th>\n",
              "                        <td id=\"T_3a1659b4_d58a_11ea_90fa_0242ac1c0002row2_col0\" class=\"data row2 col0\" >Extreme Gradient Boosting</td>\n",
              "                        <td id=\"T_3a1659b4_d58a_11ea_90fa_0242ac1c0002row2_col1\" class=\"data row2 col1\" >0.7362</td>\n",
              "                        <td id=\"T_3a1659b4_d58a_11ea_90fa_0242ac1c0002row2_col2\" class=\"data row2 col2\" >0.8015</td>\n",
              "                        <td id=\"T_3a1659b4_d58a_11ea_90fa_0242ac1c0002row2_col3\" class=\"data row2 col3\" >0.7018</td>\n",
              "                        <td id=\"T_3a1659b4_d58a_11ea_90fa_0242ac1c0002row2_col4\" class=\"data row2 col4\" >0.7533</td>\n",
              "                        <td id=\"T_3a1659b4_d58a_11ea_90fa_0242ac1c0002row2_col5\" class=\"data row2 col5\" >0.7266</td>\n",
              "                        <td id=\"T_3a1659b4_d58a_11ea_90fa_0242ac1c0002row2_col6\" class=\"data row2 col6\" >0.4723</td>\n",
              "                        <td id=\"T_3a1659b4_d58a_11ea_90fa_0242ac1c0002row2_col7\" class=\"data row2 col7\" >0.4735</td>\n",
              "                        <td id=\"T_3a1659b4_d58a_11ea_90fa_0242ac1c0002row2_col8\" class=\"data row2 col8\" >1.7710</td>\n",
              "            </tr>\n",
              "            <tr>\n",
              "                        <th id=\"T_3a1659b4_d58a_11ea_90fa_0242ac1c0002level0_row3\" class=\"row_heading level0 row3\" >3</th>\n",
              "                        <td id=\"T_3a1659b4_d58a_11ea_90fa_0242ac1c0002row3_col0\" class=\"data row3 col0\" >CatBoost Classifier</td>\n",
              "                        <td id=\"T_3a1659b4_d58a_11ea_90fa_0242ac1c0002row3_col1\" class=\"data row3 col1\" >0.7347</td>\n",
              "                        <td id=\"T_3a1659b4_d58a_11ea_90fa_0242ac1c0002row3_col2\" class=\"data row3 col2\" >0.8000</td>\n",
              "                        <td id=\"T_3a1659b4_d58a_11ea_90fa_0242ac1c0002row3_col3\" class=\"data row3 col3\" >0.7010</td>\n",
              "                        <td id=\"T_3a1659b4_d58a_11ea_90fa_0242ac1c0002row3_col4\" class=\"data row3 col4\" >0.7514</td>\n",
              "                        <td id=\"T_3a1659b4_d58a_11ea_90fa_0242ac1c0002row3_col5\" class=\"data row3 col5\" >0.7253</td>\n",
              "                        <td id=\"T_3a1659b4_d58a_11ea_90fa_0242ac1c0002row3_col6\" class=\"data row3 col6\" >0.4693</td>\n",
              "                        <td id=\"T_3a1659b4_d58a_11ea_90fa_0242ac1c0002row3_col7\" class=\"data row3 col7\" >0.4704</td>\n",
              "                        <td id=\"T_3a1659b4_d58a_11ea_90fa_0242ac1c0002row3_col8\" class=\"data row3 col8\" >19.4775</td>\n",
              "            </tr>\n",
              "            <tr>\n",
              "                        <th id=\"T_3a1659b4_d58a_11ea_90fa_0242ac1c0002level0_row4\" class=\"row_heading level0 row4\" >4</th>\n",
              "                        <td id=\"T_3a1659b4_d58a_11ea_90fa_0242ac1c0002row4_col0\" class=\"data row4 col0\" >Ada Boost Classifier</td>\n",
              "                        <td id=\"T_3a1659b4_d58a_11ea_90fa_0242ac1c0002row4_col1\" class=\"data row4 col1\" >0.7284</td>\n",
              "                        <td id=\"T_3a1659b4_d58a_11ea_90fa_0242ac1c0002row4_col2\" class=\"data row4 col2\" >0.7945</td>\n",
              "                        <td id=\"T_3a1659b4_d58a_11ea_90fa_0242ac1c0002row4_col3\" class=\"data row4 col3\" >0.6581</td>\n",
              "                        <td id=\"T_3a1659b4_d58a_11ea_90fa_0242ac1c0002row4_col4\" class=\"data row4 col4\" >0.7655</td>\n",
              "                        <td id=\"T_3a1659b4_d58a_11ea_90fa_0242ac1c0002row4_col5\" class=\"data row4 col5\" >0.7077</td>\n",
              "                        <td id=\"T_3a1659b4_d58a_11ea_90fa_0242ac1c0002row4_col6\" class=\"data row4 col6\" >0.4568</td>\n",
              "                        <td id=\"T_3a1659b4_d58a_11ea_90fa_0242ac1c0002row4_col7\" class=\"data row4 col7\" >0.4614</td>\n",
              "                        <td id=\"T_3a1659b4_d58a_11ea_90fa_0242ac1c0002row4_col8\" class=\"data row4 col8\" >1.2297</td>\n",
              "            </tr>\n",
              "            <tr>\n",
              "                        <th id=\"T_3a1659b4_d58a_11ea_90fa_0242ac1c0002level0_row5\" class=\"row_heading level0 row5\" >5</th>\n",
              "                        <td id=\"T_3a1659b4_d58a_11ea_90fa_0242ac1c0002row5_col0\" class=\"data row5 col0\" >Logistic Regression</td>\n",
              "                        <td id=\"T_3a1659b4_d58a_11ea_90fa_0242ac1c0002row5_col1\" class=\"data row5 col1\" >0.7012</td>\n",
              "                        <td id=\"T_3a1659b4_d58a_11ea_90fa_0242ac1c0002row5_col2\" class=\"data row5 col2\" >0.7610</td>\n",
              "                        <td id=\"T_3a1659b4_d58a_11ea_90fa_0242ac1c0002row5_col3\" class=\"data row5 col3\" >0.6694</td>\n",
              "                        <td id=\"T_3a1659b4_d58a_11ea_90fa_0242ac1c0002row5_col4\" class=\"data row5 col4\" >0.7148</td>\n",
              "                        <td id=\"T_3a1659b4_d58a_11ea_90fa_0242ac1c0002row5_col5\" class=\"data row5 col5\" >0.6913</td>\n",
              "                        <td id=\"T_3a1659b4_d58a_11ea_90fa_0242ac1c0002row5_col6\" class=\"data row5 col6\" >0.4025</td>\n",
              "                        <td id=\"T_3a1659b4_d58a_11ea_90fa_0242ac1c0002row5_col7\" class=\"data row5 col7\" >0.4034</td>\n",
              "                        <td id=\"T_3a1659b4_d58a_11ea_90fa_0242ac1c0002row5_col8\" class=\"data row5 col8\" >0.6559</td>\n",
              "            </tr>\n",
              "            <tr>\n",
              "                        <th id=\"T_3a1659b4_d58a_11ea_90fa_0242ac1c0002level0_row6\" class=\"row_heading level0 row6\" >6</th>\n",
              "                        <td id=\"T_3a1659b4_d58a_11ea_90fa_0242ac1c0002row6_col0\" class=\"data row6 col0\" >Extra Trees Classifier</td>\n",
              "                        <td id=\"T_3a1659b4_d58a_11ea_90fa_0242ac1c0002row6_col1\" class=\"data row6 col1\" >0.7012</td>\n",
              "                        <td id=\"T_3a1659b4_d58a_11ea_90fa_0242ac1c0002row6_col2\" class=\"data row6 col2\" >0.7588</td>\n",
              "                        <td id=\"T_3a1659b4_d58a_11ea_90fa_0242ac1c0002row6_col3\" class=\"data row6 col3\" >0.6979</td>\n",
              "                        <td id=\"T_3a1659b4_d58a_11ea_90fa_0242ac1c0002row6_col4\" class=\"data row6 col4\" >0.7023</td>\n",
              "                        <td id=\"T_3a1659b4_d58a_11ea_90fa_0242ac1c0002row6_col5\" class=\"data row6 col5\" >0.7001</td>\n",
              "                        <td id=\"T_3a1659b4_d58a_11ea_90fa_0242ac1c0002row6_col6\" class=\"data row6 col6\" >0.4024</td>\n",
              "                        <td id=\"T_3a1659b4_d58a_11ea_90fa_0242ac1c0002row6_col7\" class=\"data row6 col7\" >0.4024</td>\n",
              "                        <td id=\"T_3a1659b4_d58a_11ea_90fa_0242ac1c0002row6_col8\" class=\"data row6 col8\" >2.8953</td>\n",
              "            </tr>\n",
              "            <tr>\n",
              "                        <th id=\"T_3a1659b4_d58a_11ea_90fa_0242ac1c0002level0_row7\" class=\"row_heading level0 row7\" >7</th>\n",
              "                        <td id=\"T_3a1659b4_d58a_11ea_90fa_0242ac1c0002row7_col0\" class=\"data row7 col0\" >Random Forest Classifier</td>\n",
              "                        <td id=\"T_3a1659b4_d58a_11ea_90fa_0242ac1c0002row7_col1\" class=\"data row7 col1\" >0.6993</td>\n",
              "                        <td id=\"T_3a1659b4_d58a_11ea_90fa_0242ac1c0002row7_col2\" class=\"data row7 col2\" >0.7522</td>\n",
              "                        <td id=\"T_3a1659b4_d58a_11ea_90fa_0242ac1c0002row7_col3\" class=\"data row7 col3\" >0.6545</td>\n",
              "                        <td id=\"T_3a1659b4_d58a_11ea_90fa_0242ac1c0002row7_col4\" class=\"data row7 col4\" >0.7186</td>\n",
              "                        <td id=\"T_3a1659b4_d58a_11ea_90fa_0242ac1c0002row7_col5\" class=\"data row7 col5\" >0.6850</td>\n",
              "                        <td id=\"T_3a1659b4_d58a_11ea_90fa_0242ac1c0002row7_col6\" class=\"data row7 col6\" >0.3985</td>\n",
              "                        <td id=\"T_3a1659b4_d58a_11ea_90fa_0242ac1c0002row7_col7\" class=\"data row7 col7\" >0.4001</td>\n",
              "                        <td id=\"T_3a1659b4_d58a_11ea_90fa_0242ac1c0002row7_col8\" class=\"data row7 col8\" >0.4145</td>\n",
              "            </tr>\n",
              "            <tr>\n",
              "                        <th id=\"T_3a1659b4_d58a_11ea_90fa_0242ac1c0002level0_row8\" class=\"row_heading level0 row8\" >8</th>\n",
              "                        <td id=\"T_3a1659b4_d58a_11ea_90fa_0242ac1c0002row8_col0\" class=\"data row8 col0\" >K Neighbors Classifier</td>\n",
              "                        <td id=\"T_3a1659b4_d58a_11ea_90fa_0242ac1c0002row8_col1\" class=\"data row8 col1\" >0.6817</td>\n",
              "                        <td id=\"T_3a1659b4_d58a_11ea_90fa_0242ac1c0002row8_col2\" class=\"data row8 col2\" >0.7263</td>\n",
              "                        <td id=\"T_3a1659b4_d58a_11ea_90fa_0242ac1c0002row8_col3\" class=\"data row8 col3\" >0.6614</td>\n",
              "                        <td id=\"T_3a1659b4_d58a_11ea_90fa_0242ac1c0002row8_col4\" class=\"data row8 col4\" >0.6891</td>\n",
              "                        <td id=\"T_3a1659b4_d58a_11ea_90fa_0242ac1c0002row8_col5\" class=\"data row8 col5\" >0.6749</td>\n",
              "                        <td id=\"T_3a1659b4_d58a_11ea_90fa_0242ac1c0002row8_col6\" class=\"data row8 col6\" >0.3633</td>\n",
              "                        <td id=\"T_3a1659b4_d58a_11ea_90fa_0242ac1c0002row8_col7\" class=\"data row8 col7\" >0.3637</td>\n",
              "                        <td id=\"T_3a1659b4_d58a_11ea_90fa_0242ac1c0002row8_col8\" class=\"data row8 col8\" >0.2816</td>\n",
              "            </tr>\n",
              "            <tr>\n",
              "                        <th id=\"T_3a1659b4_d58a_11ea_90fa_0242ac1c0002level0_row9\" class=\"row_heading level0 row9\" >9</th>\n",
              "                        <td id=\"T_3a1659b4_d58a_11ea_90fa_0242ac1c0002row9_col0\" class=\"data row9 col0\" >Ridge Classifier</td>\n",
              "                        <td id=\"T_3a1659b4_d58a_11ea_90fa_0242ac1c0002row9_col1\" class=\"data row9 col1\" >0.6480</td>\n",
              "                        <td id=\"T_3a1659b4_d58a_11ea_90fa_0242ac1c0002row9_col2\" class=\"data row9 col2\" >0.0000</td>\n",
              "                        <td id=\"T_3a1659b4_d58a_11ea_90fa_0242ac1c0002row9_col3\" class=\"data row9 col3\" >0.6142</td>\n",
              "                        <td id=\"T_3a1659b4_d58a_11ea_90fa_0242ac1c0002row9_col4\" class=\"data row9 col4\" >0.6585</td>\n",
              "                        <td id=\"T_3a1659b4_d58a_11ea_90fa_0242ac1c0002row9_col5\" class=\"data row9 col5\" >0.6355</td>\n",
              "                        <td id=\"T_3a1659b4_d58a_11ea_90fa_0242ac1c0002row9_col6\" class=\"data row9 col6\" >0.2960</td>\n",
              "                        <td id=\"T_3a1659b4_d58a_11ea_90fa_0242ac1c0002row9_col7\" class=\"data row9 col7\" >0.2967</td>\n",
              "                        <td id=\"T_3a1659b4_d58a_11ea_90fa_0242ac1c0002row9_col8\" class=\"data row9 col8\" >0.0288</td>\n",
              "            </tr>\n",
              "            <tr>\n",
              "                        <th id=\"T_3a1659b4_d58a_11ea_90fa_0242ac1c0002level0_row10\" class=\"row_heading level0 row10\" >10</th>\n",
              "                        <td id=\"T_3a1659b4_d58a_11ea_90fa_0242ac1c0002row10_col0\" class=\"data row10 col0\" >Linear Discriminant Analysis</td>\n",
              "                        <td id=\"T_3a1659b4_d58a_11ea_90fa_0242ac1c0002row10_col1\" class=\"data row10 col1\" >0.6480</td>\n",
              "                        <td id=\"T_3a1659b4_d58a_11ea_90fa_0242ac1c0002row10_col2\" class=\"data row10 col2\" >0.7053</td>\n",
              "                        <td id=\"T_3a1659b4_d58a_11ea_90fa_0242ac1c0002row10_col3\" class=\"data row10 col3\" >0.6142</td>\n",
              "                        <td id=\"T_3a1659b4_d58a_11ea_90fa_0242ac1c0002row10_col4\" class=\"data row10 col4\" >0.6585</td>\n",
              "                        <td id=\"T_3a1659b4_d58a_11ea_90fa_0242ac1c0002row10_col5\" class=\"data row10 col5\" >0.6355</td>\n",
              "                        <td id=\"T_3a1659b4_d58a_11ea_90fa_0242ac1c0002row10_col6\" class=\"data row10 col6\" >0.2960</td>\n",
              "                        <td id=\"T_3a1659b4_d58a_11ea_90fa_0242ac1c0002row10_col7\" class=\"data row10 col7\" >0.2967</td>\n",
              "                        <td id=\"T_3a1659b4_d58a_11ea_90fa_0242ac1c0002row10_col8\" class=\"data row10 col8\" >0.1250</td>\n",
              "            </tr>\n",
              "            <tr>\n",
              "                        <th id=\"T_3a1659b4_d58a_11ea_90fa_0242ac1c0002level0_row11\" class=\"row_heading level0 row11\" >11</th>\n",
              "                        <td id=\"T_3a1659b4_d58a_11ea_90fa_0242ac1c0002row11_col0\" class=\"data row11 col0\" >Decision Tree Classifier</td>\n",
              "                        <td id=\"T_3a1659b4_d58a_11ea_90fa_0242ac1c0002row11_col1\" class=\"data row11 col1\" >0.6362</td>\n",
              "                        <td id=\"T_3a1659b4_d58a_11ea_90fa_0242ac1c0002row11_col2\" class=\"data row11 col2\" >0.6361</td>\n",
              "                        <td id=\"T_3a1659b4_d58a_11ea_90fa_0242ac1c0002row11_col3\" class=\"data row11 col3\" >0.6335</td>\n",
              "                        <td id=\"T_3a1659b4_d58a_11ea_90fa_0242ac1c0002row11_col4\" class=\"data row11 col4\" >0.6367</td>\n",
              "                        <td id=\"T_3a1659b4_d58a_11ea_90fa_0242ac1c0002row11_col5\" class=\"data row11 col5\" >0.6351</td>\n",
              "                        <td id=\"T_3a1659b4_d58a_11ea_90fa_0242ac1c0002row11_col6\" class=\"data row11 col6\" >0.2723</td>\n",
              "                        <td id=\"T_3a1659b4_d58a_11ea_90fa_0242ac1c0002row11_col7\" class=\"data row11 col7\" >0.2724</td>\n",
              "                        <td id=\"T_3a1659b4_d58a_11ea_90fa_0242ac1c0002row11_col8\" class=\"data row11 col8\" >0.2368</td>\n",
              "            </tr>\n",
              "            <tr>\n",
              "                        <th id=\"T_3a1659b4_d58a_11ea_90fa_0242ac1c0002level0_row12\" class=\"row_heading level0 row12\" >12</th>\n",
              "                        <td id=\"T_3a1659b4_d58a_11ea_90fa_0242ac1c0002row12_col0\" class=\"data row12 col0\" >Naive Bayes</td>\n",
              "                        <td id=\"T_3a1659b4_d58a_11ea_90fa_0242ac1c0002row12_col1\" class=\"data row12 col1\" >0.5974</td>\n",
              "                        <td id=\"T_3a1659b4_d58a_11ea_90fa_0242ac1c0002row12_col2\" class=\"data row12 col2\" >0.6813</td>\n",
              "                        <td id=\"T_3a1659b4_d58a_11ea_90fa_0242ac1c0002row12_col3\" class=\"data row12 col3\" >0.3700</td>\n",
              "                        <td id=\"T_3a1659b4_d58a_11ea_90fa_0242ac1c0002row12_col4\" class=\"data row12 col4\" >0.6791</td>\n",
              "                        <td id=\"T_3a1659b4_d58a_11ea_90fa_0242ac1c0002row12_col5\" class=\"data row12 col5\" >0.4783</td>\n",
              "                        <td id=\"T_3a1659b4_d58a_11ea_90fa_0242ac1c0002row12_col6\" class=\"data row12 col6\" >0.1946</td>\n",
              "                        <td id=\"T_3a1659b4_d58a_11ea_90fa_0242ac1c0002row12_col7\" class=\"data row12 col7\" >0.2188</td>\n",
              "                        <td id=\"T_3a1659b4_d58a_11ea_90fa_0242ac1c0002row12_col8\" class=\"data row12 col8\" >0.0175</td>\n",
              "            </tr>\n",
              "            <tr>\n",
              "                        <th id=\"T_3a1659b4_d58a_11ea_90fa_0242ac1c0002level0_row13\" class=\"row_heading level0 row13\" >13</th>\n",
              "                        <td id=\"T_3a1659b4_d58a_11ea_90fa_0242ac1c0002row13_col0\" class=\"data row13 col0\" >SVM - Linear Kernel</td>\n",
              "                        <td id=\"T_3a1659b4_d58a_11ea_90fa_0242ac1c0002row13_col1\" class=\"data row13 col1\" >0.5899</td>\n",
              "                        <td id=\"T_3a1659b4_d58a_11ea_90fa_0242ac1c0002row13_col2\" class=\"data row13 col2\" >0.0000</td>\n",
              "                        <td id=\"T_3a1659b4_d58a_11ea_90fa_0242ac1c0002row13_col3\" class=\"data row13 col3\" >0.5080</td>\n",
              "                        <td id=\"T_3a1659b4_d58a_11ea_90fa_0242ac1c0002row13_col4\" class=\"data row13 col4\" >0.7114</td>\n",
              "                        <td id=\"T_3a1659b4_d58a_11ea_90fa_0242ac1c0002row13_col5\" class=\"data row13 col5\" >0.4698</td>\n",
              "                        <td id=\"T_3a1659b4_d58a_11ea_90fa_0242ac1c0002row13_col6\" class=\"data row13 col6\" >0.1797</td>\n",
              "                        <td id=\"T_3a1659b4_d58a_11ea_90fa_0242ac1c0002row13_col7\" class=\"data row13 col7\" >0.2298</td>\n",
              "                        <td id=\"T_3a1659b4_d58a_11ea_90fa_0242ac1c0002row13_col8\" class=\"data row13 col8\" >1.8130</td>\n",
              "            </tr>\n",
              "            <tr>\n",
              "                        <th id=\"T_3a1659b4_d58a_11ea_90fa_0242ac1c0002level0_row14\" class=\"row_heading level0 row14\" >14</th>\n",
              "                        <td id=\"T_3a1659b4_d58a_11ea_90fa_0242ac1c0002row14_col0\" class=\"data row14 col0\" >Quadratic Discriminant Analysis</td>\n",
              "                        <td id=\"T_3a1659b4_d58a_11ea_90fa_0242ac1c0002row14_col1\" class=\"data row14 col1\" >0.5418</td>\n",
              "                        <td id=\"T_3a1659b4_d58a_11ea_90fa_0242ac1c0002row14_col2\" class=\"data row14 col2\" >0.5432</td>\n",
              "                        <td id=\"T_3a1659b4_d58a_11ea_90fa_0242ac1c0002row14_col3\" class=\"data row14 col3\" >0.4322</td>\n",
              "                        <td id=\"T_3a1659b4_d58a_11ea_90fa_0242ac1c0002row14_col4\" class=\"data row14 col4\" >0.5599</td>\n",
              "                        <td id=\"T_3a1659b4_d58a_11ea_90fa_0242ac1c0002row14_col5\" class=\"data row14 col5\" >0.4770</td>\n",
              "                        <td id=\"T_3a1659b4_d58a_11ea_90fa_0242ac1c0002row14_col6\" class=\"data row14 col6\" >0.0835</td>\n",
              "                        <td id=\"T_3a1659b4_d58a_11ea_90fa_0242ac1c0002row14_col7\" class=\"data row14 col7\" >0.0889</td>\n",
              "                        <td id=\"T_3a1659b4_d58a_11ea_90fa_0242ac1c0002row14_col8\" class=\"data row14 col8\" >0.0377</td>\n",
              "            </tr>\n",
              "    </tbody></table>"
            ],
            "text/plain": [
              "<pandas.io.formats.style.Styler at 0x7f2400ff04a8>"
            ]
          },
          "metadata": {
            "tags": []
          }
        }
      ]
    },
    {
      "cell_type": "markdown",
      "metadata": {
        "id": "J7cBTfoDIPqt",
        "colab_type": "text"
      },
      "source": [
        "#### While fitting the model I have chosen the training dataset to be 66% of the entire dataset and 34% for testing from the entire dataset.\n",
        "\n",
        "##### we can see that 5 machine learning model are giving us 100% accuracy and they are: 'Decision Tree Classifier','Ada Boost Classifier','Gradient Boosting Classifier','Light Gradient Boosting Machine' and 'CatBoost Classifier'\n",
        "\n",
        "###### *there is a probability of overfitting nut as we devided the dataset into train and test data so the probabiliy od overfitting is less"
      ]
    },
    {
      "cell_type": "markdown",
      "metadata": {
        "id": "9iyYxg12K78A",
        "colab_type": "text"
      },
      "source": [
        "## Predict model\n"
      ]
    },
    {
      "cell_type": "code",
      "metadata": {
        "id": "wCKpN53jLg9t",
        "colab_type": "code",
        "colab": {
          "base_uri": "https://localhost:8080/",
          "height": 610
        },
        "outputId": "3af2b080-0109-49c5-c21f-a6cd105c8cf0"
      },
      "source": [
        "## chosing the model\n",
        "## first let's check out the models\n",
        "models()"
      ],
      "execution_count": 175,
      "outputs": [
        {
          "output_type": "execute_result",
          "data": {
            "text/html": [
              "<div>\n",
              "<style scoped>\n",
              "    .dataframe tbody tr th:only-of-type {\n",
              "        vertical-align: middle;\n",
              "    }\n",
              "\n",
              "    .dataframe tbody tr th {\n",
              "        vertical-align: top;\n",
              "    }\n",
              "\n",
              "    .dataframe thead th {\n",
              "        text-align: right;\n",
              "    }\n",
              "</style>\n",
              "<table border=\"1\" class=\"dataframe\">\n",
              "  <thead>\n",
              "    <tr style=\"text-align: right;\">\n",
              "      <th></th>\n",
              "      <th>Name</th>\n",
              "      <th>Reference</th>\n",
              "      <th>Turbo</th>\n",
              "    </tr>\n",
              "    <tr>\n",
              "      <th>ID</th>\n",
              "      <th></th>\n",
              "      <th></th>\n",
              "      <th></th>\n",
              "    </tr>\n",
              "  </thead>\n",
              "  <tbody>\n",
              "    <tr>\n",
              "      <th>lr</th>\n",
              "      <td>Logistic Regression</td>\n",
              "      <td>sklearn.linear_model.LogisticRegression</td>\n",
              "      <td>True</td>\n",
              "    </tr>\n",
              "    <tr>\n",
              "      <th>knn</th>\n",
              "      <td>K Neighbors Classifier</td>\n",
              "      <td>sklearn.neighbors.KNeighborsClassifier</td>\n",
              "      <td>True</td>\n",
              "    </tr>\n",
              "    <tr>\n",
              "      <th>nb</th>\n",
              "      <td>Naive Bayes</td>\n",
              "      <td>sklearn.naive_bayes.GaussianNB</td>\n",
              "      <td>True</td>\n",
              "    </tr>\n",
              "    <tr>\n",
              "      <th>dt</th>\n",
              "      <td>Decision Tree Classifier</td>\n",
              "      <td>sklearn.tree.DecisionTreeClassifier</td>\n",
              "      <td>True</td>\n",
              "    </tr>\n",
              "    <tr>\n",
              "      <th>svm</th>\n",
              "      <td>SVM - Linear Kernel</td>\n",
              "      <td>sklearn.linear_model.SGDClassifier</td>\n",
              "      <td>True</td>\n",
              "    </tr>\n",
              "    <tr>\n",
              "      <th>rbfsvm</th>\n",
              "      <td>SVM - Radial Kernel</td>\n",
              "      <td>sklearn.svm.SVC</td>\n",
              "      <td>False</td>\n",
              "    </tr>\n",
              "    <tr>\n",
              "      <th>gpc</th>\n",
              "      <td>Gaussian Process Classifier</td>\n",
              "      <td>sklearn.gaussian_process.GPC</td>\n",
              "      <td>False</td>\n",
              "    </tr>\n",
              "    <tr>\n",
              "      <th>mlp</th>\n",
              "      <td>MLP Classifier</td>\n",
              "      <td>sklearn.neural_network.MLPClassifier</td>\n",
              "      <td>False</td>\n",
              "    </tr>\n",
              "    <tr>\n",
              "      <th>ridge</th>\n",
              "      <td>Ridge Classifier</td>\n",
              "      <td>sklearn.linear_model.RidgeClassifier</td>\n",
              "      <td>True</td>\n",
              "    </tr>\n",
              "    <tr>\n",
              "      <th>rf</th>\n",
              "      <td>Random Forest Classifier</td>\n",
              "      <td>sklearn.ensemble.RandomForestClassifier</td>\n",
              "      <td>True</td>\n",
              "    </tr>\n",
              "    <tr>\n",
              "      <th>qda</th>\n",
              "      <td>Quadratic Discriminant Analysis</td>\n",
              "      <td>sklearn.discriminant_analysis.QDA</td>\n",
              "      <td>True</td>\n",
              "    </tr>\n",
              "    <tr>\n",
              "      <th>ada</th>\n",
              "      <td>Ada Boost Classifier</td>\n",
              "      <td>sklearn.ensemble.AdaBoostClassifier</td>\n",
              "      <td>True</td>\n",
              "    </tr>\n",
              "    <tr>\n",
              "      <th>gbc</th>\n",
              "      <td>Gradient Boosting Classifier</td>\n",
              "      <td>sklearn.ensemble.GradientBoostingClassifier</td>\n",
              "      <td>True</td>\n",
              "    </tr>\n",
              "    <tr>\n",
              "      <th>lda</th>\n",
              "      <td>Linear Discriminant Analysis</td>\n",
              "      <td>sklearn.discriminant_analysis.LDA</td>\n",
              "      <td>True</td>\n",
              "    </tr>\n",
              "    <tr>\n",
              "      <th>et</th>\n",
              "      <td>Extra Trees Classifier</td>\n",
              "      <td>sklearn.ensemble.ExtraTreesClassifier</td>\n",
              "      <td>True</td>\n",
              "    </tr>\n",
              "    <tr>\n",
              "      <th>xgboost</th>\n",
              "      <td>Extreme Gradient Boosting</td>\n",
              "      <td>xgboost.readthedocs.io</td>\n",
              "      <td>True</td>\n",
              "    </tr>\n",
              "    <tr>\n",
              "      <th>lightgbm</th>\n",
              "      <td>Light Gradient Boosting Machine</td>\n",
              "      <td>github.com/microsoft/LightGBM</td>\n",
              "      <td>True</td>\n",
              "    </tr>\n",
              "    <tr>\n",
              "      <th>catboost</th>\n",
              "      <td>CatBoost Classifier</td>\n",
              "      <td>catboost.ai</td>\n",
              "      <td>True</td>\n",
              "    </tr>\n",
              "  </tbody>\n",
              "</table>\n",
              "</div>"
            ],
            "text/plain": [
              "                                     Name  ...  Turbo\n",
              "ID                                         ...       \n",
              "lr                    Logistic Regression  ...   True\n",
              "knn                K Neighbors Classifier  ...   True\n",
              "nb                            Naive Bayes  ...   True\n",
              "dt               Decision Tree Classifier  ...   True\n",
              "svm                   SVM - Linear Kernel  ...   True\n",
              "rbfsvm                SVM - Radial Kernel  ...  False\n",
              "gpc           Gaussian Process Classifier  ...  False\n",
              "mlp                        MLP Classifier  ...  False\n",
              "ridge                    Ridge Classifier  ...   True\n",
              "rf               Random Forest Classifier  ...   True\n",
              "qda       Quadratic Discriminant Analysis  ...   True\n",
              "ada                  Ada Boost Classifier  ...   True\n",
              "gbc          Gradient Boosting Classifier  ...   True\n",
              "lda          Linear Discriminant Analysis  ...   True\n",
              "et                 Extra Trees Classifier  ...   True\n",
              "xgboost         Extreme Gradient Boosting  ...   True\n",
              "lightgbm  Light Gradient Boosting Machine  ...   True\n",
              "catboost              CatBoost Classifier  ...   True\n",
              "\n",
              "[18 rows x 3 columns]"
            ]
          },
          "metadata": {
            "tags": []
          },
          "execution_count": 175
        }
      ]
    },
    {
      "cell_type": "code",
      "metadata": {
        "id": "6E2vE8tcS8oF",
        "colab_type": "code",
        "colab": {
          "base_uri": "https://localhost:8080/",
          "height": 118
        },
        "outputId": "aed9836a-cd16-4769-bbdf-ca55c6177c26"
      },
      "source": [
        "## creating the model\n",
        "##checking out the best model\n",
        "best = automl(optimize = 'Recall')\n",
        "best"
      ],
      "execution_count": 176,
      "outputs": [
        {
          "output_type": "execute_result",
          "data": {
            "text/plain": [
              "LGBMClassifier(boosting_type='gbdt', class_weight=None, colsample_bytree=1.0,\n",
              "               importance_type='split', learning_rate=0.1, max_depth=-1,\n",
              "               min_child_samples=20, min_child_weight=0.001, min_split_gain=0.0,\n",
              "               n_estimators=100, n_jobs=-1, num_leaves=31, objective=None,\n",
              "               random_state=123, reg_alpha=0.0, reg_lambda=0.0, silent=True,\n",
              "               subsample=1.0, subsample_for_bin=200000, subsample_freq=0)"
            ]
          },
          "metadata": {
            "tags": []
          },
          "execution_count": 176
        }
      ]
    },
    {
      "cell_type": "code",
      "metadata": {
        "id": "nBubff3xTPMx",
        "colab_type": "code",
        "colab": {
          "base_uri": "https://localhost:8080/",
          "height": 278,
          "referenced_widgets": [
            "f710894d92af4c109f63238e53668b3c",
            "194d12fe59bc490cba129440acdcddc3",
            "402f62d8231c4fbb80a45c0ff9d4c212"
          ]
        },
        "outputId": "20656417-380e-4d36-ccd9-4489b2836d5c"
      },
      "source": [
        "## So we can see that decision tree classifier is the best model\n",
        "## creating decision tree classifier model\n",
        "lightgbm  = create_model('lightgbm')"
      ],
      "execution_count": 177,
      "outputs": [
        {
          "output_type": "display_data",
          "data": {
            "text/html": [
              "<style  type=\"text/css\" >\n",
              "    #T_6828d7dc_d58a_11ea_90fa_0242ac1c0002row10_col0 {\n",
              "            background:  yellow;\n",
              "        }    #T_6828d7dc_d58a_11ea_90fa_0242ac1c0002row10_col1 {\n",
              "            background:  yellow;\n",
              "        }    #T_6828d7dc_d58a_11ea_90fa_0242ac1c0002row10_col2 {\n",
              "            background:  yellow;\n",
              "        }    #T_6828d7dc_d58a_11ea_90fa_0242ac1c0002row10_col3 {\n",
              "            background:  yellow;\n",
              "        }    #T_6828d7dc_d58a_11ea_90fa_0242ac1c0002row10_col4 {\n",
              "            background:  yellow;\n",
              "        }    #T_6828d7dc_d58a_11ea_90fa_0242ac1c0002row10_col5 {\n",
              "            background:  yellow;\n",
              "        }    #T_6828d7dc_d58a_11ea_90fa_0242ac1c0002row10_col6 {\n",
              "            background:  yellow;\n",
              "        }</style><table id=\"T_6828d7dc_d58a_11ea_90fa_0242ac1c0002\" ><thead>    <tr>        <th class=\"blank level0\" ></th>        <th class=\"col_heading level0 col0\" >Accuracy</th>        <th class=\"col_heading level0 col1\" >AUC</th>        <th class=\"col_heading level0 col2\" >Recall</th>        <th class=\"col_heading level0 col3\" >Prec.</th>        <th class=\"col_heading level0 col4\" >F1</th>        <th class=\"col_heading level0 col5\" >Kappa</th>        <th class=\"col_heading level0 col6\" >MCC</th>    </tr></thead><tbody>\n",
              "                <tr>\n",
              "                        <th id=\"T_6828d7dc_d58a_11ea_90fa_0242ac1c0002level0_row0\" class=\"row_heading level0 row0\" >0</th>\n",
              "                        <td id=\"T_6828d7dc_d58a_11ea_90fa_0242ac1c0002row0_col0\" class=\"data row0 col0\" >0.7350</td>\n",
              "                        <td id=\"T_6828d7dc_d58a_11ea_90fa_0242ac1c0002row0_col1\" class=\"data row0 col1\" >0.7945</td>\n",
              "                        <td id=\"T_6828d7dc_d58a_11ea_90fa_0242ac1c0002row0_col2\" class=\"data row0 col2\" >0.7054</td>\n",
              "                        <td id=\"T_6828d7dc_d58a_11ea_90fa_0242ac1c0002row0_col3\" class=\"data row0 col3\" >0.7495</td>\n",
              "                        <td id=\"T_6828d7dc_d58a_11ea_90fa_0242ac1c0002row0_col4\" class=\"data row0 col4\" >0.7268</td>\n",
              "                        <td id=\"T_6828d7dc_d58a_11ea_90fa_0242ac1c0002row0_col5\" class=\"data row0 col5\" >0.4700</td>\n",
              "                        <td id=\"T_6828d7dc_d58a_11ea_90fa_0242ac1c0002row0_col6\" class=\"data row0 col6\" >0.4708</td>\n",
              "            </tr>\n",
              "            <tr>\n",
              "                        <th id=\"T_6828d7dc_d58a_11ea_90fa_0242ac1c0002level0_row1\" class=\"row_heading level0 row1\" >1</th>\n",
              "                        <td id=\"T_6828d7dc_d58a_11ea_90fa_0242ac1c0002row1_col0\" class=\"data row1 col0\" >0.7394</td>\n",
              "                        <td id=\"T_6828d7dc_d58a_11ea_90fa_0242ac1c0002row1_col1\" class=\"data row1 col1\" >0.8064</td>\n",
              "                        <td id=\"T_6828d7dc_d58a_11ea_90fa_0242ac1c0002row1_col2\" class=\"data row1 col2\" >0.6931</td>\n",
              "                        <td id=\"T_6828d7dc_d58a_11ea_90fa_0242ac1c0002row1_col3\" class=\"data row1 col3\" >0.7635</td>\n",
              "                        <td id=\"T_6828d7dc_d58a_11ea_90fa_0242ac1c0002row1_col4\" class=\"data row1 col4\" >0.7266</td>\n",
              "                        <td id=\"T_6828d7dc_d58a_11ea_90fa_0242ac1c0002row1_col5\" class=\"data row1 col5\" >0.4787</td>\n",
              "                        <td id=\"T_6828d7dc_d58a_11ea_90fa_0242ac1c0002row1_col6\" class=\"data row1 col6\" >0.4807</td>\n",
              "            </tr>\n",
              "            <tr>\n",
              "                        <th id=\"T_6828d7dc_d58a_11ea_90fa_0242ac1c0002level0_row2\" class=\"row_heading level0 row2\" >2</th>\n",
              "                        <td id=\"T_6828d7dc_d58a_11ea_90fa_0242ac1c0002row2_col0\" class=\"data row2 col0\" >0.7324</td>\n",
              "                        <td id=\"T_6828d7dc_d58a_11ea_90fa_0242ac1c0002row2_col1\" class=\"data row2 col1\" >0.7957</td>\n",
              "                        <td id=\"T_6828d7dc_d58a_11ea_90fa_0242ac1c0002row2_col2\" class=\"data row2 col2\" >0.6995</td>\n",
              "                        <td id=\"T_6828d7dc_d58a_11ea_90fa_0242ac1c0002row2_col3\" class=\"data row2 col3\" >0.7484</td>\n",
              "                        <td id=\"T_6828d7dc_d58a_11ea_90fa_0242ac1c0002row2_col4\" class=\"data row2 col4\" >0.7232</td>\n",
              "                        <td id=\"T_6828d7dc_d58a_11ea_90fa_0242ac1c0002row2_col5\" class=\"data row2 col5\" >0.4647</td>\n",
              "                        <td id=\"T_6828d7dc_d58a_11ea_90fa_0242ac1c0002row2_col6\" class=\"data row2 col6\" >0.4657</td>\n",
              "            </tr>\n",
              "            <tr>\n",
              "                        <th id=\"T_6828d7dc_d58a_11ea_90fa_0242ac1c0002level0_row3\" class=\"row_heading level0 row3\" >3</th>\n",
              "                        <td id=\"T_6828d7dc_d58a_11ea_90fa_0242ac1c0002row3_col0\" class=\"data row3 col0\" >0.7359</td>\n",
              "                        <td id=\"T_6828d7dc_d58a_11ea_90fa_0242ac1c0002row3_col1\" class=\"data row3 col1\" >0.8026</td>\n",
              "                        <td id=\"T_6828d7dc_d58a_11ea_90fa_0242ac1c0002row3_col2\" class=\"data row3 col2\" >0.7042</td>\n",
              "                        <td id=\"T_6828d7dc_d58a_11ea_90fa_0242ac1c0002row3_col3\" class=\"data row3 col3\" >0.7516</td>\n",
              "                        <td id=\"T_6828d7dc_d58a_11ea_90fa_0242ac1c0002row3_col4\" class=\"data row3 col4\" >0.7271</td>\n",
              "                        <td id=\"T_6828d7dc_d58a_11ea_90fa_0242ac1c0002row3_col5\" class=\"data row3 col5\" >0.4717</td>\n",
              "                        <td id=\"T_6828d7dc_d58a_11ea_90fa_0242ac1c0002row3_col6\" class=\"data row3 col6\" >0.4726</td>\n",
              "            </tr>\n",
              "            <tr>\n",
              "                        <th id=\"T_6828d7dc_d58a_11ea_90fa_0242ac1c0002level0_row4\" class=\"row_heading level0 row4\" >4</th>\n",
              "                        <td id=\"T_6828d7dc_d58a_11ea_90fa_0242ac1c0002row4_col0\" class=\"data row4 col0\" >0.7397</td>\n",
              "                        <td id=\"T_6828d7dc_d58a_11ea_90fa_0242ac1c0002row4_col1\" class=\"data row4 col1\" >0.8036</td>\n",
              "                        <td id=\"T_6828d7dc_d58a_11ea_90fa_0242ac1c0002row4_col2\" class=\"data row4 col2\" >0.7054</td>\n",
              "                        <td id=\"T_6828d7dc_d58a_11ea_90fa_0242ac1c0002row4_col3\" class=\"data row4 col3\" >0.7570</td>\n",
              "                        <td id=\"T_6828d7dc_d58a_11ea_90fa_0242ac1c0002row4_col4\" class=\"data row4 col4\" >0.7303</td>\n",
              "                        <td id=\"T_6828d7dc_d58a_11ea_90fa_0242ac1c0002row4_col5\" class=\"data row4 col5\" >0.4793</td>\n",
              "                        <td id=\"T_6828d7dc_d58a_11ea_90fa_0242ac1c0002row4_col6\" class=\"data row4 col6\" >0.4804</td>\n",
              "            </tr>\n",
              "            <tr>\n",
              "                        <th id=\"T_6828d7dc_d58a_11ea_90fa_0242ac1c0002level0_row5\" class=\"row_heading level0 row5\" >5</th>\n",
              "                        <td id=\"T_6828d7dc_d58a_11ea_90fa_0242ac1c0002row5_col0\" class=\"data row5 col0\" >0.7402</td>\n",
              "                        <td id=\"T_6828d7dc_d58a_11ea_90fa_0242ac1c0002row5_col1\" class=\"data row5 col1\" >0.8045</td>\n",
              "                        <td id=\"T_6828d7dc_d58a_11ea_90fa_0242ac1c0002row5_col2\" class=\"data row5 col2\" >0.6995</td>\n",
              "                        <td id=\"T_6828d7dc_d58a_11ea_90fa_0242ac1c0002row5_col3\" class=\"data row5 col3\" >0.7613</td>\n",
              "                        <td id=\"T_6828d7dc_d58a_11ea_90fa_0242ac1c0002row5_col4\" class=\"data row5 col4\" >0.7291</td>\n",
              "                        <td id=\"T_6828d7dc_d58a_11ea_90fa_0242ac1c0002row5_col5\" class=\"data row5 col5\" >0.4804</td>\n",
              "                        <td id=\"T_6828d7dc_d58a_11ea_90fa_0242ac1c0002row5_col6\" class=\"data row5 col6\" >0.4820</td>\n",
              "            </tr>\n",
              "            <tr>\n",
              "                        <th id=\"T_6828d7dc_d58a_11ea_90fa_0242ac1c0002level0_row6\" class=\"row_heading level0 row6\" >6</th>\n",
              "                        <td id=\"T_6828d7dc_d58a_11ea_90fa_0242ac1c0002row6_col0\" class=\"data row6 col0\" >0.7440</td>\n",
              "                        <td id=\"T_6828d7dc_d58a_11ea_90fa_0242ac1c0002row6_col1\" class=\"data row6 col1\" >0.8015</td>\n",
              "                        <td id=\"T_6828d7dc_d58a_11ea_90fa_0242ac1c0002row6_col2\" class=\"data row6 col2\" >0.7153</td>\n",
              "                        <td id=\"T_6828d7dc_d58a_11ea_90fa_0242ac1c0002row6_col3\" class=\"data row6 col3\" >0.7587</td>\n",
              "                        <td id=\"T_6828d7dc_d58a_11ea_90fa_0242ac1c0002row6_col4\" class=\"data row6 col4\" >0.7363</td>\n",
              "                        <td id=\"T_6828d7dc_d58a_11ea_90fa_0242ac1c0002row6_col5\" class=\"data row6 col5\" >0.4880</td>\n",
              "                        <td id=\"T_6828d7dc_d58a_11ea_90fa_0242ac1c0002row6_col6\" class=\"data row6 col6\" >0.4888</td>\n",
              "            </tr>\n",
              "            <tr>\n",
              "                        <th id=\"T_6828d7dc_d58a_11ea_90fa_0242ac1c0002level0_row7\" class=\"row_heading level0 row7\" >7</th>\n",
              "                        <td id=\"T_6828d7dc_d58a_11ea_90fa_0242ac1c0002row7_col0\" class=\"data row7 col0\" >0.7420</td>\n",
              "                        <td id=\"T_6828d7dc_d58a_11ea_90fa_0242ac1c0002row7_col1\" class=\"data row7 col1\" >0.8073</td>\n",
              "                        <td id=\"T_6828d7dc_d58a_11ea_90fa_0242ac1c0002row7_col2\" class=\"data row7 col2\" >0.7159</td>\n",
              "                        <td id=\"T_6828d7dc_d58a_11ea_90fa_0242ac1c0002row7_col3\" class=\"data row7 col3\" >0.7551</td>\n",
              "                        <td id=\"T_6828d7dc_d58a_11ea_90fa_0242ac1c0002row7_col4\" class=\"data row7 col4\" >0.7350</td>\n",
              "                        <td id=\"T_6828d7dc_d58a_11ea_90fa_0242ac1c0002row7_col5\" class=\"data row7 col5\" >0.4839</td>\n",
              "                        <td id=\"T_6828d7dc_d58a_11ea_90fa_0242ac1c0002row7_col6\" class=\"data row7 col6\" >0.4846</td>\n",
              "            </tr>\n",
              "            <tr>\n",
              "                        <th id=\"T_6828d7dc_d58a_11ea_90fa_0242ac1c0002level0_row8\" class=\"row_heading level0 row8\" >8</th>\n",
              "                        <td id=\"T_6828d7dc_d58a_11ea_90fa_0242ac1c0002row8_col0\" class=\"data row8 col0\" >0.7324</td>\n",
              "                        <td id=\"T_6828d7dc_d58a_11ea_90fa_0242ac1c0002row8_col1\" class=\"data row8 col1\" >0.7953</td>\n",
              "                        <td id=\"T_6828d7dc_d58a_11ea_90fa_0242ac1c0002row8_col2\" class=\"data row8 col2\" >0.6867</td>\n",
              "                        <td id=\"T_6828d7dc_d58a_11ea_90fa_0242ac1c0002row8_col3\" class=\"data row8 col3\" >0.7555</td>\n",
              "                        <td id=\"T_6828d7dc_d58a_11ea_90fa_0242ac1c0002row8_col4\" class=\"data row8 col4\" >0.7194</td>\n",
              "                        <td id=\"T_6828d7dc_d58a_11ea_90fa_0242ac1c0002row8_col5\" class=\"data row8 col5\" >0.4647</td>\n",
              "                        <td id=\"T_6828d7dc_d58a_11ea_90fa_0242ac1c0002row8_col6\" class=\"data row8 col6\" >0.4666</td>\n",
              "            </tr>\n",
              "            <tr>\n",
              "                        <th id=\"T_6828d7dc_d58a_11ea_90fa_0242ac1c0002level0_row9\" class=\"row_heading level0 row9\" >9</th>\n",
              "                        <td id=\"T_6828d7dc_d58a_11ea_90fa_0242ac1c0002row9_col0\" class=\"data row9 col0\" >0.7346</td>\n",
              "                        <td id=\"T_6828d7dc_d58a_11ea_90fa_0242ac1c0002row9_col1\" class=\"data row9 col1\" >0.7947</td>\n",
              "                        <td id=\"T_6828d7dc_d58a_11ea_90fa_0242ac1c0002row9_col2\" class=\"data row9 col2\" >0.6970</td>\n",
              "                        <td id=\"T_6828d7dc_d58a_11ea_90fa_0242ac1c0002row9_col3\" class=\"data row9 col3\" >0.7533</td>\n",
              "                        <td id=\"T_6828d7dc_d58a_11ea_90fa_0242ac1c0002row9_col4\" class=\"data row9 col4\" >0.7241</td>\n",
              "                        <td id=\"T_6828d7dc_d58a_11ea_90fa_0242ac1c0002row9_col5\" class=\"data row9 col5\" >0.4692</td>\n",
              "                        <td id=\"T_6828d7dc_d58a_11ea_90fa_0242ac1c0002row9_col6\" class=\"data row9 col6\" >0.4705</td>\n",
              "            </tr>\n",
              "            <tr>\n",
              "                        <th id=\"T_6828d7dc_d58a_11ea_90fa_0242ac1c0002level0_row10\" class=\"row_heading level0 row10\" >Mean</th>\n",
              "                        <td id=\"T_6828d7dc_d58a_11ea_90fa_0242ac1c0002row10_col0\" class=\"data row10 col0\" >0.7375</td>\n",
              "                        <td id=\"T_6828d7dc_d58a_11ea_90fa_0242ac1c0002row10_col1\" class=\"data row10 col1\" >0.8006</td>\n",
              "                        <td id=\"T_6828d7dc_d58a_11ea_90fa_0242ac1c0002row10_col2\" class=\"data row10 col2\" >0.7022</td>\n",
              "                        <td id=\"T_6828d7dc_d58a_11ea_90fa_0242ac1c0002row10_col3\" class=\"data row10 col3\" >0.7554</td>\n",
              "                        <td id=\"T_6828d7dc_d58a_11ea_90fa_0242ac1c0002row10_col4\" class=\"data row10 col4\" >0.7278</td>\n",
              "                        <td id=\"T_6828d7dc_d58a_11ea_90fa_0242ac1c0002row10_col5\" class=\"data row10 col5\" >0.4751</td>\n",
              "                        <td id=\"T_6828d7dc_d58a_11ea_90fa_0242ac1c0002row10_col6\" class=\"data row10 col6\" >0.4763</td>\n",
              "            </tr>\n",
              "            <tr>\n",
              "                        <th id=\"T_6828d7dc_d58a_11ea_90fa_0242ac1c0002level0_row11\" class=\"row_heading level0 row11\" >SD</th>\n",
              "                        <td id=\"T_6828d7dc_d58a_11ea_90fa_0242ac1c0002row11_col0\" class=\"data row11 col0\" >0.0039</td>\n",
              "                        <td id=\"T_6828d7dc_d58a_11ea_90fa_0242ac1c0002row11_col1\" class=\"data row11 col1\" >0.0048</td>\n",
              "                        <td id=\"T_6828d7dc_d58a_11ea_90fa_0242ac1c0002row11_col2\" class=\"data row11 col2\" >0.0086</td>\n",
              "                        <td id=\"T_6828d7dc_d58a_11ea_90fa_0242ac1c0002row11_col3\" class=\"data row11 col3\" >0.0046</td>\n",
              "                        <td id=\"T_6828d7dc_d58a_11ea_90fa_0242ac1c0002row11_col4\" class=\"data row11 col4\" >0.0049</td>\n",
              "                        <td id=\"T_6828d7dc_d58a_11ea_90fa_0242ac1c0002row11_col5\" class=\"data row11 col5\" >0.0077</td>\n",
              "                        <td id=\"T_6828d7dc_d58a_11ea_90fa_0242ac1c0002row11_col6\" class=\"data row11 col6\" >0.0076</td>\n",
              "            </tr>\n",
              "    </tbody></table>"
            ],
            "text/plain": [
              "<pandas.io.formats.style.Styler at 0x7f2405c82710>"
            ]
          },
          "metadata": {
            "tags": []
          }
        }
      ]
    },
    {
      "cell_type": "code",
      "metadata": {
        "id": "4MbsO9DUUZXA",
        "colab_type": "code",
        "colab": {
          "base_uri": "https://localhost:8080/",
          "height": 275
        },
        "outputId": "d2fbe0a2-21e1-4a7c-823a-612b508c53c4"
      },
      "source": [
        "#predicting model\n",
        "pred_cardio = predict_model(lightgbm)\n",
        "pred_cardio.head()"
      ],
      "execution_count": 178,
      "outputs": [
        {
          "output_type": "display_data",
          "data": {
            "text/html": [
              "<div>\n",
              "<style scoped>\n",
              "    .dataframe tbody tr th:only-of-type {\n",
              "        vertical-align: middle;\n",
              "    }\n",
              "\n",
              "    .dataframe tbody tr th {\n",
              "        vertical-align: top;\n",
              "    }\n",
              "\n",
              "    .dataframe thead th {\n",
              "        text-align: right;\n",
              "    }\n",
              "</style>\n",
              "<table border=\"1\" class=\"dataframe\">\n",
              "  <thead>\n",
              "    <tr style=\"text-align: right;\">\n",
              "      <th></th>\n",
              "      <th>Model</th>\n",
              "      <th>Accuracy</th>\n",
              "      <th>AUC</th>\n",
              "      <th>Recall</th>\n",
              "      <th>Prec.</th>\n",
              "      <th>F1</th>\n",
              "      <th>Kappa</th>\n",
              "      <th>MCC</th>\n",
              "    </tr>\n",
              "  </thead>\n",
              "  <tbody>\n",
              "    <tr>\n",
              "      <th>0</th>\n",
              "      <td>Light Gradient Boosting Machine</td>\n",
              "      <td>0.7352</td>\n",
              "      <td>0.8018</td>\n",
              "      <td>0.7022</td>\n",
              "      <td>0.7517</td>\n",
              "      <td>0.7261</td>\n",
              "      <td>0.4705</td>\n",
              "      <td>0.4715</td>\n",
              "    </tr>\n",
              "  </tbody>\n",
              "</table>\n",
              "</div>"
            ],
            "text/plain": [
              "                             Model  Accuracy     AUC  ...      F1   Kappa     MCC\n",
              "0  Light Gradient Boosting Machine    0.7352  0.8018  ...  0.7261  0.4705  0.4715\n",
              "\n",
              "[1 rows x 8 columns]"
            ]
          },
          "metadata": {
            "tags": []
          }
        },
        {
          "output_type": "execute_result",
          "data": {
            "text/html": [
              "<div>\n",
              "<style scoped>\n",
              "    .dataframe tbody tr th:only-of-type {\n",
              "        vertical-align: middle;\n",
              "    }\n",
              "\n",
              "    .dataframe tbody tr th {\n",
              "        vertical-align: top;\n",
              "    }\n",
              "\n",
              "    .dataframe thead th {\n",
              "        text-align: right;\n",
              "    }\n",
              "</style>\n",
              "<table border=\"1\" class=\"dataframe\">\n",
              "  <thead>\n",
              "    <tr style=\"text-align: right;\">\n",
              "      <th></th>\n",
              "      <th>age</th>\n",
              "      <th>height</th>\n",
              "      <th>weight</th>\n",
              "      <th>ap_hi</th>\n",
              "      <th>ap_lo</th>\n",
              "      <th>gender_1</th>\n",
              "      <th>gender_2</th>\n",
              "      <th>cholesterol_1</th>\n",
              "      <th>cholesterol_2</th>\n",
              "      <th>cholesterol_3</th>\n",
              "      <th>gluc_1</th>\n",
              "      <th>gluc_2</th>\n",
              "      <th>gluc_3</th>\n",
              "      <th>smoke_0</th>\n",
              "      <th>smoke_1</th>\n",
              "      <th>alco_0</th>\n",
              "      <th>alco_1</th>\n",
              "      <th>active_0</th>\n",
              "      <th>active_1</th>\n",
              "      <th>cardio</th>\n",
              "      <th>Label</th>\n",
              "      <th>Score</th>\n",
              "    </tr>\n",
              "  </thead>\n",
              "  <tbody>\n",
              "    <tr>\n",
              "      <th>0</th>\n",
              "      <td>14631.0</td>\n",
              "      <td>150.0</td>\n",
              "      <td>51.0</td>\n",
              "      <td>90.0</td>\n",
              "      <td>60.0</td>\n",
              "      <td>1.0</td>\n",
              "      <td>0.0</td>\n",
              "      <td>1.0</td>\n",
              "      <td>0.0</td>\n",
              "      <td>0.0</td>\n",
              "      <td>0.0</td>\n",
              "      <td>0.0</td>\n",
              "      <td>1.0</td>\n",
              "      <td>1.0</td>\n",
              "      <td>0.0</td>\n",
              "      <td>1.0</td>\n",
              "      <td>0.0</td>\n",
              "      <td>0.0</td>\n",
              "      <td>1.0</td>\n",
              "      <td>0</td>\n",
              "      <td>0</td>\n",
              "      <td>0.0253</td>\n",
              "    </tr>\n",
              "    <tr>\n",
              "      <th>1</th>\n",
              "      <td>19437.0</td>\n",
              "      <td>161.0</td>\n",
              "      <td>71.0</td>\n",
              "      <td>120.0</td>\n",
              "      <td>80.0</td>\n",
              "      <td>0.0</td>\n",
              "      <td>1.0</td>\n",
              "      <td>0.0</td>\n",
              "      <td>1.0</td>\n",
              "      <td>0.0</td>\n",
              "      <td>1.0</td>\n",
              "      <td>0.0</td>\n",
              "      <td>0.0</td>\n",
              "      <td>1.0</td>\n",
              "      <td>0.0</td>\n",
              "      <td>1.0</td>\n",
              "      <td>0.0</td>\n",
              "      <td>0.0</td>\n",
              "      <td>1.0</td>\n",
              "      <td>0</td>\n",
              "      <td>0</td>\n",
              "      <td>0.4055</td>\n",
              "    </tr>\n",
              "    <tr>\n",
              "      <th>2</th>\n",
              "      <td>22039.0</td>\n",
              "      <td>146.0</td>\n",
              "      <td>79.0</td>\n",
              "      <td>193.0</td>\n",
              "      <td>118.0</td>\n",
              "      <td>1.0</td>\n",
              "      <td>0.0</td>\n",
              "      <td>1.0</td>\n",
              "      <td>0.0</td>\n",
              "      <td>0.0</td>\n",
              "      <td>1.0</td>\n",
              "      <td>0.0</td>\n",
              "      <td>0.0</td>\n",
              "      <td>1.0</td>\n",
              "      <td>0.0</td>\n",
              "      <td>1.0</td>\n",
              "      <td>0.0</td>\n",
              "      <td>1.0</td>\n",
              "      <td>0.0</td>\n",
              "      <td>1</td>\n",
              "      <td>1</td>\n",
              "      <td>0.8243</td>\n",
              "    </tr>\n",
              "    <tr>\n",
              "      <th>3</th>\n",
              "      <td>20471.0</td>\n",
              "      <td>177.0</td>\n",
              "      <td>87.0</td>\n",
              "      <td>130.0</td>\n",
              "      <td>80.0</td>\n",
              "      <td>0.0</td>\n",
              "      <td>1.0</td>\n",
              "      <td>1.0</td>\n",
              "      <td>0.0</td>\n",
              "      <td>0.0</td>\n",
              "      <td>0.0</td>\n",
              "      <td>1.0</td>\n",
              "      <td>0.0</td>\n",
              "      <td>1.0</td>\n",
              "      <td>0.0</td>\n",
              "      <td>1.0</td>\n",
              "      <td>0.0</td>\n",
              "      <td>1.0</td>\n",
              "      <td>0.0</td>\n",
              "      <td>0</td>\n",
              "      <td>0</td>\n",
              "      <td>0.4524</td>\n",
              "    </tr>\n",
              "    <tr>\n",
              "      <th>4</th>\n",
              "      <td>18902.0</td>\n",
              "      <td>170.0</td>\n",
              "      <td>65.0</td>\n",
              "      <td>120.0</td>\n",
              "      <td>80.0</td>\n",
              "      <td>1.0</td>\n",
              "      <td>0.0</td>\n",
              "      <td>1.0</td>\n",
              "      <td>0.0</td>\n",
              "      <td>0.0</td>\n",
              "      <td>1.0</td>\n",
              "      <td>0.0</td>\n",
              "      <td>0.0</td>\n",
              "      <td>1.0</td>\n",
              "      <td>0.0</td>\n",
              "      <td>1.0</td>\n",
              "      <td>0.0</td>\n",
              "      <td>0.0</td>\n",
              "      <td>1.0</td>\n",
              "      <td>0</td>\n",
              "      <td>0</td>\n",
              "      <td>0.2763</td>\n",
              "    </tr>\n",
              "  </tbody>\n",
              "</table>\n",
              "</div>"
            ],
            "text/plain": [
              "       age  height  weight  ap_hi  ...  active_1  cardio  Label   Score\n",
              "0  14631.0   150.0    51.0   90.0  ...       1.0       0      0  0.0253\n",
              "1  19437.0   161.0    71.0  120.0  ...       1.0       0      0  0.4055\n",
              "2  22039.0   146.0    79.0  193.0  ...       0.0       1      1  0.8243\n",
              "3  20471.0   177.0    87.0  130.0  ...       0.0       0      0  0.4524\n",
              "4  18902.0   170.0    65.0  120.0  ...       1.0       0      0  0.2763\n",
              "\n",
              "[5 rows x 22 columns]"
            ]
          },
          "metadata": {
            "tags": []
          },
          "execution_count": 178
        }
      ]
    },
    {
      "cell_type": "code",
      "metadata": {
        "id": "3NA_WjgEUvCZ",
        "colab_type": "code",
        "colab": {}
      },
      "source": [
        "## For predicting new data input your file with all the coulumn same as the training data and run the below code\n",
        "new_data = data.copy()\n",
        "\n",
        "predict_new = predict_model(best, data=new_data)\n",
        "\n",
        "predict_new.head()"
      ],
      "execution_count": 162,
      "outputs": []
    },
    {
      "cell_type": "markdown",
      "metadata": {
        "id": "lbRVlECWU-HQ",
        "colab_type": "text"
      },
      "source": [
        "## Conclusion\n",
        "\n",
        "#### In this self-guided project I have used the Cardiovascular disease dataset to plot draphs and study important co-relation between different features of the dataset and the analysis of every graph are written under the plots.\n",
        "\n",
        "#### The way the dataset was presented it had much flaws, like the 'ap_hi' and 'ap_lo' column had some irrelevant values. I decided not to drop the columns and insted created a new column named 'high_bp', if a sample has systolic pressure higher than 140 or diastolic pressure higher than 90 then I classified them as 'High' else 'Low'. and this single improvement helped in the visualisation process. I tried using 'high_bp' in my machine learning model but it was throwing error.\n",
        "#### I will be uploading this notebook to my github and kagle repository so feel free to contribute and if possible then try using the 'high_bp' column.\n",
        "\n",
        "#### The accuracy of the model is 74% but there is room for further improvements\n",
        "\n",
        "### Thank you\n",
        "### Avishek Chatterjee\n",
        "### Jadavpur University\n",
        "### Department of Mechanical Engineering \n",
        "### 03-08-2020\n"
      ]
    }
  ]
}